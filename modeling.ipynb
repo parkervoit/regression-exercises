{
 "cells": [
  {
   "cell_type": "code",
   "execution_count": 1,
   "metadata": {},
   "outputs": [],
   "source": [
    "import pandas as pd\n",
    "import numpy as np \n",
    "import seaborn as sns\n",
    "import wrangle, explore, acquire, evaluate, prepare\n",
    "import matplotlib.pyplot as plt\n",
    "import pydataset as data\n",
    "from sklearn.metrics import mean_squared_error\n",
    "from sklearn.linear_model import LinearRegression, LassoLars, TweedieRegressor\n",
    "from sklearn.preprocessing import PolynomialFeatures\n",
    "import sklearn.preprocessing\n",
    "\n",
    "import warnings\n",
    "warnings.filterwarnings(\"ignore\")"
   ]
  },
  {
   "cell_type": "code",
   "execution_count": 2,
   "metadata": {},
   "outputs": [
    {
     "data": {
      "text/plain": [
       "['anagrams',\n",
       " 'anscombe',\n",
       " 'attention',\n",
       " 'brain_networks',\n",
       " 'car_crashes',\n",
       " 'diamonds',\n",
       " 'dots',\n",
       " 'exercise',\n",
       " 'flights',\n",
       " 'fmri',\n",
       " 'gammas',\n",
       " 'geyser',\n",
       " 'iris',\n",
       " 'mpg',\n",
       " 'penguins',\n",
       " 'planets',\n",
       " 'tips',\n",
       " 'titanic']"
      ]
     },
     "execution_count": 2,
     "metadata": {},
     "output_type": "execute_result"
    }
   ],
   "source": [
    "sns.get_dataset_names()"
   ]
  },
  {
   "cell_type": "code",
   "execution_count": 3,
   "metadata": {
    "tags": []
   },
   "outputs": [],
   "source": [
    "diamonds_df = sns.load_dataset('diamonds')"
   ]
  },
  {
   "cell_type": "code",
   "execution_count": 4,
   "metadata": {},
   "outputs": [],
   "source": [
    "diamonds_df = diamonds_df.rename(columns = {'x' : 'length', 'y' : 'width', 'z' : 'height'})"
   ]
  },
  {
   "cell_type": "code",
   "execution_count": 6,
   "metadata": {},
   "outputs": [
    {
     "data": {
      "text/html": [
       "<div>\n",
       "<style scoped>\n",
       "    .dataframe tbody tr th:only-of-type {\n",
       "        vertical-align: middle;\n",
       "    }\n",
       "\n",
       "    .dataframe tbody tr th {\n",
       "        vertical-align: top;\n",
       "    }\n",
       "\n",
       "    .dataframe thead th {\n",
       "        text-align: right;\n",
       "    }\n",
       "</style>\n",
       "<table border=\"1\" class=\"dataframe\">\n",
       "  <thead>\n",
       "    <tr style=\"text-align: right;\">\n",
       "      <th></th>\n",
       "      <th>carat</th>\n",
       "      <th>cut</th>\n",
       "      <th>color</th>\n",
       "      <th>clarity</th>\n",
       "      <th>depth</th>\n",
       "      <th>table</th>\n",
       "      <th>price</th>\n",
       "      <th>length</th>\n",
       "      <th>width</th>\n",
       "      <th>height</th>\n",
       "      <th>volume</th>\n",
       "    </tr>\n",
       "  </thead>\n",
       "  <tbody>\n",
       "    <tr>\n",
       "      <th>0</th>\n",
       "      <td>0.23</td>\n",
       "      <td>Ideal</td>\n",
       "      <td>E</td>\n",
       "      <td>SI2</td>\n",
       "      <td>61.5</td>\n",
       "      <td>55.0</td>\n",
       "      <td>326</td>\n",
       "      <td>3.95</td>\n",
       "      <td>3.98</td>\n",
       "      <td>2.43</td>\n",
       "      <td>38.202030</td>\n",
       "    </tr>\n",
       "    <tr>\n",
       "      <th>1</th>\n",
       "      <td>0.21</td>\n",
       "      <td>Premium</td>\n",
       "      <td>E</td>\n",
       "      <td>SI1</td>\n",
       "      <td>59.8</td>\n",
       "      <td>61.0</td>\n",
       "      <td>326</td>\n",
       "      <td>3.89</td>\n",
       "      <td>3.84</td>\n",
       "      <td>2.31</td>\n",
       "      <td>34.505856</td>\n",
       "    </tr>\n",
       "    <tr>\n",
       "      <th>2</th>\n",
       "      <td>0.23</td>\n",
       "      <td>Good</td>\n",
       "      <td>E</td>\n",
       "      <td>VS1</td>\n",
       "      <td>56.9</td>\n",
       "      <td>65.0</td>\n",
       "      <td>327</td>\n",
       "      <td>4.05</td>\n",
       "      <td>4.07</td>\n",
       "      <td>2.31</td>\n",
       "      <td>38.076885</td>\n",
       "    </tr>\n",
       "    <tr>\n",
       "      <th>3</th>\n",
       "      <td>0.29</td>\n",
       "      <td>Premium</td>\n",
       "      <td>I</td>\n",
       "      <td>VS2</td>\n",
       "      <td>62.4</td>\n",
       "      <td>58.0</td>\n",
       "      <td>334</td>\n",
       "      <td>4.20</td>\n",
       "      <td>4.23</td>\n",
       "      <td>2.63</td>\n",
       "      <td>46.724580</td>\n",
       "    </tr>\n",
       "    <tr>\n",
       "      <th>4</th>\n",
       "      <td>0.31</td>\n",
       "      <td>Good</td>\n",
       "      <td>J</td>\n",
       "      <td>SI2</td>\n",
       "      <td>63.3</td>\n",
       "      <td>58.0</td>\n",
       "      <td>335</td>\n",
       "      <td>4.34</td>\n",
       "      <td>4.35</td>\n",
       "      <td>2.75</td>\n",
       "      <td>51.917250</td>\n",
       "    </tr>\n",
       "    <tr>\n",
       "      <th>...</th>\n",
       "      <td>...</td>\n",
       "      <td>...</td>\n",
       "      <td>...</td>\n",
       "      <td>...</td>\n",
       "      <td>...</td>\n",
       "      <td>...</td>\n",
       "      <td>...</td>\n",
       "      <td>...</td>\n",
       "      <td>...</td>\n",
       "      <td>...</td>\n",
       "      <td>...</td>\n",
       "    </tr>\n",
       "    <tr>\n",
       "      <th>53935</th>\n",
       "      <td>0.72</td>\n",
       "      <td>Ideal</td>\n",
       "      <td>D</td>\n",
       "      <td>SI1</td>\n",
       "      <td>60.8</td>\n",
       "      <td>57.0</td>\n",
       "      <td>2757</td>\n",
       "      <td>5.75</td>\n",
       "      <td>5.76</td>\n",
       "      <td>3.50</td>\n",
       "      <td>115.920000</td>\n",
       "    </tr>\n",
       "    <tr>\n",
       "      <th>53936</th>\n",
       "      <td>0.72</td>\n",
       "      <td>Good</td>\n",
       "      <td>D</td>\n",
       "      <td>SI1</td>\n",
       "      <td>63.1</td>\n",
       "      <td>55.0</td>\n",
       "      <td>2757</td>\n",
       "      <td>5.69</td>\n",
       "      <td>5.75</td>\n",
       "      <td>3.61</td>\n",
       "      <td>118.110175</td>\n",
       "    </tr>\n",
       "    <tr>\n",
       "      <th>53937</th>\n",
       "      <td>0.70</td>\n",
       "      <td>Very Good</td>\n",
       "      <td>D</td>\n",
       "      <td>SI1</td>\n",
       "      <td>62.8</td>\n",
       "      <td>60.0</td>\n",
       "      <td>2757</td>\n",
       "      <td>5.66</td>\n",
       "      <td>5.68</td>\n",
       "      <td>3.56</td>\n",
       "      <td>114.449728</td>\n",
       "    </tr>\n",
       "    <tr>\n",
       "      <th>53938</th>\n",
       "      <td>0.86</td>\n",
       "      <td>Premium</td>\n",
       "      <td>H</td>\n",
       "      <td>SI2</td>\n",
       "      <td>61.0</td>\n",
       "      <td>58.0</td>\n",
       "      <td>2757</td>\n",
       "      <td>6.15</td>\n",
       "      <td>6.12</td>\n",
       "      <td>3.74</td>\n",
       "      <td>140.766120</td>\n",
       "    </tr>\n",
       "    <tr>\n",
       "      <th>53939</th>\n",
       "      <td>0.75</td>\n",
       "      <td>Ideal</td>\n",
       "      <td>D</td>\n",
       "      <td>SI2</td>\n",
       "      <td>62.2</td>\n",
       "      <td>55.0</td>\n",
       "      <td>2757</td>\n",
       "      <td>5.83</td>\n",
       "      <td>5.87</td>\n",
       "      <td>3.64</td>\n",
       "      <td>124.568444</td>\n",
       "    </tr>\n",
       "  </tbody>\n",
       "</table>\n",
       "<p>53940 rows × 11 columns</p>\n",
       "</div>"
      ],
      "text/plain": [
       "       carat        cut color clarity  depth  table  price  length  width  \\\n",
       "0       0.23      Ideal     E     SI2   61.5   55.0    326    3.95   3.98   \n",
       "1       0.21    Premium     E     SI1   59.8   61.0    326    3.89   3.84   \n",
       "2       0.23       Good     E     VS1   56.9   65.0    327    4.05   4.07   \n",
       "3       0.29    Premium     I     VS2   62.4   58.0    334    4.20   4.23   \n",
       "4       0.31       Good     J     SI2   63.3   58.0    335    4.34   4.35   \n",
       "...      ...        ...   ...     ...    ...    ...    ...     ...    ...   \n",
       "53935   0.72      Ideal     D     SI1   60.8   57.0   2757    5.75   5.76   \n",
       "53936   0.72       Good     D     SI1   63.1   55.0   2757    5.69   5.75   \n",
       "53937   0.70  Very Good     D     SI1   62.8   60.0   2757    5.66   5.68   \n",
       "53938   0.86    Premium     H     SI2   61.0   58.0   2757    6.15   6.12   \n",
       "53939   0.75      Ideal     D     SI2   62.2   55.0   2757    5.83   5.87   \n",
       "\n",
       "       height      volume  \n",
       "0        2.43   38.202030  \n",
       "1        2.31   34.505856  \n",
       "2        2.31   38.076885  \n",
       "3        2.63   46.724580  \n",
       "4        2.75   51.917250  \n",
       "...       ...         ...  \n",
       "53935    3.50  115.920000  \n",
       "53936    3.61  118.110175  \n",
       "53937    3.56  114.449728  \n",
       "53938    3.74  140.766120  \n",
       "53939    3.64  124.568444  \n",
       "\n",
       "[53940 rows x 11 columns]"
      ]
     },
     "execution_count": 6,
     "metadata": {},
     "output_type": "execute_result"
    }
   ],
   "source": [
    "diamonds_df"
   ]
  },
  {
   "cell_type": "code",
   "execution_count": 7,
   "metadata": {},
   "outputs": [
    {
     "name": "stdout",
     "output_type": "stream",
     "text": [
      "<class 'pandas.core.frame.DataFrame'>\n",
      "RangeIndex: 53940 entries, 0 to 53939\n",
      "Data columns (total 11 columns):\n",
      " #   Column   Non-Null Count  Dtype   \n",
      "---  ------   --------------  -----   \n",
      " 0   carat    53940 non-null  float64 \n",
      " 1   cut      53940 non-null  category\n",
      " 2   color    53940 non-null  category\n",
      " 3   clarity  53940 non-null  category\n",
      " 4   depth    53940 non-null  float64 \n",
      " 5   table    53940 non-null  float64 \n",
      " 6   price    53940 non-null  int64   \n",
      " 7   length   53940 non-null  float64 \n",
      " 8   width    53940 non-null  float64 \n",
      " 9   height   53940 non-null  float64 \n",
      " 10  volume   53940 non-null  float64 \n",
      "dtypes: category(3), float64(7), int64(1)\n",
      "memory usage: 3.4 MB\n"
     ]
    }
   ],
   "source": [
    "diamonds_df.info()"
   ]
  },
  {
   "cell_type": "code",
   "execution_count": 8,
   "metadata": {},
   "outputs": [
    {
     "data": {
      "text/html": [
       "<div>\n",
       "<style scoped>\n",
       "    .dataframe tbody tr th:only-of-type {\n",
       "        vertical-align: middle;\n",
       "    }\n",
       "\n",
       "    .dataframe tbody tr th {\n",
       "        vertical-align: top;\n",
       "    }\n",
       "\n",
       "    .dataframe thead th {\n",
       "        text-align: right;\n",
       "    }\n",
       "</style>\n",
       "<table border=\"1\" class=\"dataframe\">\n",
       "  <thead>\n",
       "    <tr style=\"text-align: right;\">\n",
       "      <th></th>\n",
       "      <th>count</th>\n",
       "      <th>mean</th>\n",
       "      <th>std</th>\n",
       "      <th>min</th>\n",
       "      <th>25%</th>\n",
       "      <th>50%</th>\n",
       "      <th>75%</th>\n",
       "      <th>max</th>\n",
       "    </tr>\n",
       "  </thead>\n",
       "  <tbody>\n",
       "    <tr>\n",
       "      <th>carat</th>\n",
       "      <td>53940.0</td>\n",
       "      <td>0.797940</td>\n",
       "      <td>0.474011</td>\n",
       "      <td>0.2</td>\n",
       "      <td>0.40000</td>\n",
       "      <td>0.700000</td>\n",
       "      <td>1.040000</td>\n",
       "      <td>5.01000</td>\n",
       "    </tr>\n",
       "    <tr>\n",
       "      <th>depth</th>\n",
       "      <td>53940.0</td>\n",
       "      <td>61.749405</td>\n",
       "      <td>1.432621</td>\n",
       "      <td>43.0</td>\n",
       "      <td>61.00000</td>\n",
       "      <td>61.800000</td>\n",
       "      <td>62.500000</td>\n",
       "      <td>79.00000</td>\n",
       "    </tr>\n",
       "    <tr>\n",
       "      <th>table</th>\n",
       "      <td>53940.0</td>\n",
       "      <td>57.457184</td>\n",
       "      <td>2.234491</td>\n",
       "      <td>43.0</td>\n",
       "      <td>56.00000</td>\n",
       "      <td>57.000000</td>\n",
       "      <td>59.000000</td>\n",
       "      <td>95.00000</td>\n",
       "    </tr>\n",
       "    <tr>\n",
       "      <th>price</th>\n",
       "      <td>53940.0</td>\n",
       "      <td>3932.799722</td>\n",
       "      <td>3989.439738</td>\n",
       "      <td>326.0</td>\n",
       "      <td>950.00000</td>\n",
       "      <td>2401.000000</td>\n",
       "      <td>5324.250000</td>\n",
       "      <td>18823.00000</td>\n",
       "    </tr>\n",
       "    <tr>\n",
       "      <th>length</th>\n",
       "      <td>53940.0</td>\n",
       "      <td>5.731157</td>\n",
       "      <td>1.121761</td>\n",
       "      <td>0.0</td>\n",
       "      <td>4.71000</td>\n",
       "      <td>5.700000</td>\n",
       "      <td>6.540000</td>\n",
       "      <td>10.74000</td>\n",
       "    </tr>\n",
       "    <tr>\n",
       "      <th>width</th>\n",
       "      <td>53940.0</td>\n",
       "      <td>5.734526</td>\n",
       "      <td>1.142135</td>\n",
       "      <td>0.0</td>\n",
       "      <td>4.72000</td>\n",
       "      <td>5.710000</td>\n",
       "      <td>6.540000</td>\n",
       "      <td>58.90000</td>\n",
       "    </tr>\n",
       "    <tr>\n",
       "      <th>height</th>\n",
       "      <td>53940.0</td>\n",
       "      <td>3.538734</td>\n",
       "      <td>0.705699</td>\n",
       "      <td>0.0</td>\n",
       "      <td>2.91000</td>\n",
       "      <td>3.530000</td>\n",
       "      <td>4.040000</td>\n",
       "      <td>31.80000</td>\n",
       "    </tr>\n",
       "    <tr>\n",
       "      <th>volume</th>\n",
       "      <td>53940.0</td>\n",
       "      <td>129.849403</td>\n",
       "      <td>78.245262</td>\n",
       "      <td>0.0</td>\n",
       "      <td>65.13683</td>\n",
       "      <td>114.808572</td>\n",
       "      <td>170.842451</td>\n",
       "      <td>3840.59806</td>\n",
       "    </tr>\n",
       "  </tbody>\n",
       "</table>\n",
       "</div>"
      ],
      "text/plain": [
       "          count         mean          std    min        25%          50%  \\\n",
       "carat   53940.0     0.797940     0.474011    0.2    0.40000     0.700000   \n",
       "depth   53940.0    61.749405     1.432621   43.0   61.00000    61.800000   \n",
       "table   53940.0    57.457184     2.234491   43.0   56.00000    57.000000   \n",
       "price   53940.0  3932.799722  3989.439738  326.0  950.00000  2401.000000   \n",
       "length  53940.0     5.731157     1.121761    0.0    4.71000     5.700000   \n",
       "width   53940.0     5.734526     1.142135    0.0    4.72000     5.710000   \n",
       "height  53940.0     3.538734     0.705699    0.0    2.91000     3.530000   \n",
       "volume  53940.0   129.849403    78.245262    0.0   65.13683   114.808572   \n",
       "\n",
       "                75%          max  \n",
       "carat      1.040000      5.01000  \n",
       "depth     62.500000     79.00000  \n",
       "table     59.000000     95.00000  \n",
       "price   5324.250000  18823.00000  \n",
       "length     6.540000     10.74000  \n",
       "width      6.540000     58.90000  \n",
       "height     4.040000     31.80000  \n",
       "volume   170.842451   3840.59806  "
      ]
     },
     "execution_count": 8,
     "metadata": {},
     "output_type": "execute_result"
    }
   ],
   "source": [
    "diamonds_df.describe().T"
   ]
  },
  {
   "cell_type": "code",
   "execution_count": 9,
   "metadata": {},
   "outputs": [],
   "source": [
    "dnum_df = wrangle.encode_values(diamonds_df)"
   ]
  },
  {
   "cell_type": "code",
   "execution_count": 10,
   "metadata": {},
   "outputs": [
    {
     "data": {
      "text/html": [
       "<div>\n",
       "<style scoped>\n",
       "    .dataframe tbody tr th:only-of-type {\n",
       "        vertical-align: middle;\n",
       "    }\n",
       "\n",
       "    .dataframe tbody tr th {\n",
       "        vertical-align: top;\n",
       "    }\n",
       "\n",
       "    .dataframe thead th {\n",
       "        text-align: right;\n",
       "    }\n",
       "</style>\n",
       "<table border=\"1\" class=\"dataframe\">\n",
       "  <thead>\n",
       "    <tr style=\"text-align: right;\">\n",
       "      <th></th>\n",
       "      <th>carat</th>\n",
       "      <th>cut</th>\n",
       "      <th>color</th>\n",
       "      <th>clarity</th>\n",
       "      <th>depth</th>\n",
       "      <th>table</th>\n",
       "      <th>price</th>\n",
       "      <th>length</th>\n",
       "      <th>width</th>\n",
       "      <th>height</th>\n",
       "      <th>volume</th>\n",
       "    </tr>\n",
       "  </thead>\n",
       "  <tbody>\n",
       "    <tr>\n",
       "      <th>0</th>\n",
       "      <td>0.23</td>\n",
       "      <td>2</td>\n",
       "      <td>1</td>\n",
       "      <td>3</td>\n",
       "      <td>61.5</td>\n",
       "      <td>55.0</td>\n",
       "      <td>326</td>\n",
       "      <td>3.95</td>\n",
       "      <td>3.98</td>\n",
       "      <td>2.43</td>\n",
       "      <td>38.202030</td>\n",
       "    </tr>\n",
       "    <tr>\n",
       "      <th>1</th>\n",
       "      <td>0.21</td>\n",
       "      <td>3</td>\n",
       "      <td>1</td>\n",
       "      <td>2</td>\n",
       "      <td>59.8</td>\n",
       "      <td>61.0</td>\n",
       "      <td>326</td>\n",
       "      <td>3.89</td>\n",
       "      <td>3.84</td>\n",
       "      <td>2.31</td>\n",
       "      <td>34.505856</td>\n",
       "    </tr>\n",
       "    <tr>\n",
       "      <th>2</th>\n",
       "      <td>0.23</td>\n",
       "      <td>1</td>\n",
       "      <td>1</td>\n",
       "      <td>4</td>\n",
       "      <td>56.9</td>\n",
       "      <td>65.0</td>\n",
       "      <td>327</td>\n",
       "      <td>4.05</td>\n",
       "      <td>4.07</td>\n",
       "      <td>2.31</td>\n",
       "      <td>38.076885</td>\n",
       "    </tr>\n",
       "    <tr>\n",
       "      <th>3</th>\n",
       "      <td>0.29</td>\n",
       "      <td>3</td>\n",
       "      <td>5</td>\n",
       "      <td>5</td>\n",
       "      <td>62.4</td>\n",
       "      <td>58.0</td>\n",
       "      <td>334</td>\n",
       "      <td>4.20</td>\n",
       "      <td>4.23</td>\n",
       "      <td>2.63</td>\n",
       "      <td>46.724580</td>\n",
       "    </tr>\n",
       "    <tr>\n",
       "      <th>4</th>\n",
       "      <td>0.31</td>\n",
       "      <td>1</td>\n",
       "      <td>6</td>\n",
       "      <td>3</td>\n",
       "      <td>63.3</td>\n",
       "      <td>58.0</td>\n",
       "      <td>335</td>\n",
       "      <td>4.34</td>\n",
       "      <td>4.35</td>\n",
       "      <td>2.75</td>\n",
       "      <td>51.917250</td>\n",
       "    </tr>\n",
       "    <tr>\n",
       "      <th>...</th>\n",
       "      <td>...</td>\n",
       "      <td>...</td>\n",
       "      <td>...</td>\n",
       "      <td>...</td>\n",
       "      <td>...</td>\n",
       "      <td>...</td>\n",
       "      <td>...</td>\n",
       "      <td>...</td>\n",
       "      <td>...</td>\n",
       "      <td>...</td>\n",
       "      <td>...</td>\n",
       "    </tr>\n",
       "    <tr>\n",
       "      <th>53935</th>\n",
       "      <td>0.72</td>\n",
       "      <td>2</td>\n",
       "      <td>0</td>\n",
       "      <td>2</td>\n",
       "      <td>60.8</td>\n",
       "      <td>57.0</td>\n",
       "      <td>2757</td>\n",
       "      <td>5.75</td>\n",
       "      <td>5.76</td>\n",
       "      <td>3.50</td>\n",
       "      <td>115.920000</td>\n",
       "    </tr>\n",
       "    <tr>\n",
       "      <th>53936</th>\n",
       "      <td>0.72</td>\n",
       "      <td>1</td>\n",
       "      <td>0</td>\n",
       "      <td>2</td>\n",
       "      <td>63.1</td>\n",
       "      <td>55.0</td>\n",
       "      <td>2757</td>\n",
       "      <td>5.69</td>\n",
       "      <td>5.75</td>\n",
       "      <td>3.61</td>\n",
       "      <td>118.110175</td>\n",
       "    </tr>\n",
       "    <tr>\n",
       "      <th>53937</th>\n",
       "      <td>0.70</td>\n",
       "      <td>4</td>\n",
       "      <td>0</td>\n",
       "      <td>2</td>\n",
       "      <td>62.8</td>\n",
       "      <td>60.0</td>\n",
       "      <td>2757</td>\n",
       "      <td>5.66</td>\n",
       "      <td>5.68</td>\n",
       "      <td>3.56</td>\n",
       "      <td>114.449728</td>\n",
       "    </tr>\n",
       "    <tr>\n",
       "      <th>53938</th>\n",
       "      <td>0.86</td>\n",
       "      <td>3</td>\n",
       "      <td>4</td>\n",
       "      <td>3</td>\n",
       "      <td>61.0</td>\n",
       "      <td>58.0</td>\n",
       "      <td>2757</td>\n",
       "      <td>6.15</td>\n",
       "      <td>6.12</td>\n",
       "      <td>3.74</td>\n",
       "      <td>140.766120</td>\n",
       "    </tr>\n",
       "    <tr>\n",
       "      <th>53939</th>\n",
       "      <td>0.75</td>\n",
       "      <td>2</td>\n",
       "      <td>0</td>\n",
       "      <td>3</td>\n",
       "      <td>62.2</td>\n",
       "      <td>55.0</td>\n",
       "      <td>2757</td>\n",
       "      <td>5.83</td>\n",
       "      <td>5.87</td>\n",
       "      <td>3.64</td>\n",
       "      <td>124.568444</td>\n",
       "    </tr>\n",
       "  </tbody>\n",
       "</table>\n",
       "<p>53940 rows × 11 columns</p>\n",
       "</div>"
      ],
      "text/plain": [
       "       carat  cut  color  clarity  depth  table  price  length  width  height  \\\n",
       "0       0.23    2      1        3   61.5   55.0    326    3.95   3.98    2.43   \n",
       "1       0.21    3      1        2   59.8   61.0    326    3.89   3.84    2.31   \n",
       "2       0.23    1      1        4   56.9   65.0    327    4.05   4.07    2.31   \n",
       "3       0.29    3      5        5   62.4   58.0    334    4.20   4.23    2.63   \n",
       "4       0.31    1      6        3   63.3   58.0    335    4.34   4.35    2.75   \n",
       "...      ...  ...    ...      ...    ...    ...    ...     ...    ...     ...   \n",
       "53935   0.72    2      0        2   60.8   57.0   2757    5.75   5.76    3.50   \n",
       "53936   0.72    1      0        2   63.1   55.0   2757    5.69   5.75    3.61   \n",
       "53937   0.70    4      0        2   62.8   60.0   2757    5.66   5.68    3.56   \n",
       "53938   0.86    3      4        3   61.0   58.0   2757    6.15   6.12    3.74   \n",
       "53939   0.75    2      0        3   62.2   55.0   2757    5.83   5.87    3.64   \n",
       "\n",
       "           volume  \n",
       "0       38.202030  \n",
       "1       34.505856  \n",
       "2       38.076885  \n",
       "3       46.724580  \n",
       "4       51.917250  \n",
       "...           ...  \n",
       "53935  115.920000  \n",
       "53936  118.110175  \n",
       "53937  114.449728  \n",
       "53938  140.766120  \n",
       "53939  124.568444  \n",
       "\n",
       "[53940 rows x 11 columns]"
      ]
     },
     "execution_count": 10,
     "metadata": {},
     "output_type": "execute_result"
    }
   ],
   "source": [
    "dnum_df"
   ]
  },
  {
   "cell_type": "code",
   "execution_count": 11,
   "metadata": {},
   "outputs": [],
   "source": [
    "dnum_df = dnum_df.dropna()\n",
    "dnum_df = dnum_df.drop_duplicates()"
   ]
  },
  {
   "cell_type": "code",
   "execution_count": 12,
   "metadata": {},
   "outputs": [
    {
     "data": {
      "text/plain": [
       "(53794, 11)"
      ]
     },
     "execution_count": 12,
     "metadata": {},
     "output_type": "execute_result"
    }
   ],
   "source": [
    "dnum_df.shape"
   ]
  },
  {
   "cell_type": "code",
   "execution_count": 13,
   "metadata": {},
   "outputs": [],
   "source": [
    "train, validate, test = prepare.train_validate_test_split(dnum_df)"
   ]
  },
  {
   "cell_type": "code",
   "execution_count": 14,
   "metadata": {},
   "outputs": [
    {
     "data": {
      "text/html": [
       "<div>\n",
       "<style scoped>\n",
       "    .dataframe tbody tr th:only-of-type {\n",
       "        vertical-align: middle;\n",
       "    }\n",
       "\n",
       "    .dataframe tbody tr th {\n",
       "        vertical-align: top;\n",
       "    }\n",
       "\n",
       "    .dataframe thead th {\n",
       "        text-align: right;\n",
       "    }\n",
       "</style>\n",
       "<table border=\"1\" class=\"dataframe\">\n",
       "  <thead>\n",
       "    <tr style=\"text-align: right;\">\n",
       "      <th></th>\n",
       "      <th>carat</th>\n",
       "      <th>cut</th>\n",
       "      <th>color</th>\n",
       "      <th>clarity</th>\n",
       "      <th>depth</th>\n",
       "      <th>table</th>\n",
       "      <th>price</th>\n",
       "      <th>length</th>\n",
       "      <th>width</th>\n",
       "      <th>height</th>\n",
       "      <th>volume</th>\n",
       "    </tr>\n",
       "  </thead>\n",
       "  <tbody>\n",
       "    <tr>\n",
       "      <th>45962</th>\n",
       "      <td>0.24</td>\n",
       "      <td>2</td>\n",
       "      <td>1</td>\n",
       "      <td>7</td>\n",
       "      <td>61.3</td>\n",
       "      <td>57.0</td>\n",
       "      <td>526</td>\n",
       "      <td>4.00</td>\n",
       "      <td>4.02</td>\n",
       "      <td>2.46</td>\n",
       "      <td>39.556800</td>\n",
       "    </tr>\n",
       "    <tr>\n",
       "      <th>47703</th>\n",
       "      <td>0.58</td>\n",
       "      <td>2</td>\n",
       "      <td>3</td>\n",
       "      <td>4</td>\n",
       "      <td>62.6</td>\n",
       "      <td>54.0</td>\n",
       "      <td>1884</td>\n",
       "      <td>5.30</td>\n",
       "      <td>5.34</td>\n",
       "      <td>3.33</td>\n",
       "      <td>94.245660</td>\n",
       "    </tr>\n",
       "    <tr>\n",
       "      <th>38085</th>\n",
       "      <td>0.30</td>\n",
       "      <td>2</td>\n",
       "      <td>1</td>\n",
       "      <td>7</td>\n",
       "      <td>61.8</td>\n",
       "      <td>56.0</td>\n",
       "      <td>1013</td>\n",
       "      <td>4.35</td>\n",
       "      <td>4.33</td>\n",
       "      <td>2.68</td>\n",
       "      <td>50.479140</td>\n",
       "    </tr>\n",
       "    <tr>\n",
       "      <th>11300</th>\n",
       "      <td>1.54</td>\n",
       "      <td>3</td>\n",
       "      <td>4</td>\n",
       "      <td>0</td>\n",
       "      <td>62.0</td>\n",
       "      <td>60.0</td>\n",
       "      <td>4980</td>\n",
       "      <td>7.32</td>\n",
       "      <td>7.40</td>\n",
       "      <td>4.56</td>\n",
       "      <td>247.006080</td>\n",
       "    </tr>\n",
       "    <tr>\n",
       "      <th>6124</th>\n",
       "      <td>0.90</td>\n",
       "      <td>3</td>\n",
       "      <td>3</td>\n",
       "      <td>2</td>\n",
       "      <td>62.2</td>\n",
       "      <td>60.0</td>\n",
       "      <td>3984</td>\n",
       "      <td>6.14</td>\n",
       "      <td>6.07</td>\n",
       "      <td>3.80</td>\n",
       "      <td>141.625240</td>\n",
       "    </tr>\n",
       "    <tr>\n",
       "      <th>...</th>\n",
       "      <td>...</td>\n",
       "      <td>...</td>\n",
       "      <td>...</td>\n",
       "      <td>...</td>\n",
       "      <td>...</td>\n",
       "      <td>...</td>\n",
       "      <td>...</td>\n",
       "      <td>...</td>\n",
       "      <td>...</td>\n",
       "      <td>...</td>\n",
       "      <td>...</td>\n",
       "    </tr>\n",
       "    <tr>\n",
       "      <th>22481</th>\n",
       "      <td>1.24</td>\n",
       "      <td>3</td>\n",
       "      <td>3</td>\n",
       "      <td>1</td>\n",
       "      <td>60.5</td>\n",
       "      <td>60.0</td>\n",
       "      <td>10508</td>\n",
       "      <td>6.95</td>\n",
       "      <td>6.91</td>\n",
       "      <td>4.19</td>\n",
       "      <td>201.222655</td>\n",
       "    </tr>\n",
       "    <tr>\n",
       "      <th>8980</th>\n",
       "      <td>1.06</td>\n",
       "      <td>4</td>\n",
       "      <td>5</td>\n",
       "      <td>2</td>\n",
       "      <td>60.2</td>\n",
       "      <td>59.0</td>\n",
       "      <td>4507</td>\n",
       "      <td>6.62</td>\n",
       "      <td>6.67</td>\n",
       "      <td>4.00</td>\n",
       "      <td>176.621600</td>\n",
       "    </tr>\n",
       "    <tr>\n",
       "      <th>5992</th>\n",
       "      <td>1.16</td>\n",
       "      <td>2</td>\n",
       "      <td>6</td>\n",
       "      <td>2</td>\n",
       "      <td>60.7</td>\n",
       "      <td>57.0</td>\n",
       "      <td>3955</td>\n",
       "      <td>6.77</td>\n",
       "      <td>6.83</td>\n",
       "      <td>4.13</td>\n",
       "      <td>190.967483</td>\n",
       "    </tr>\n",
       "    <tr>\n",
       "      <th>9969</th>\n",
       "      <td>1.14</td>\n",
       "      <td>1</td>\n",
       "      <td>5</td>\n",
       "      <td>2</td>\n",
       "      <td>63.5</td>\n",
       "      <td>56.0</td>\n",
       "      <td>4702</td>\n",
       "      <td>6.58</td>\n",
       "      <td>6.62</td>\n",
       "      <td>4.19</td>\n",
       "      <td>182.514724</td>\n",
       "    </tr>\n",
       "    <tr>\n",
       "      <th>8186</th>\n",
       "      <td>1.50</td>\n",
       "      <td>0</td>\n",
       "      <td>5</td>\n",
       "      <td>0</td>\n",
       "      <td>71.3</td>\n",
       "      <td>58.0</td>\n",
       "      <td>4368</td>\n",
       "      <td>6.85</td>\n",
       "      <td>6.81</td>\n",
       "      <td>4.87</td>\n",
       "      <td>227.178195</td>\n",
       "    </tr>\n",
       "  </tbody>\n",
       "</table>\n",
       "<p>30124 rows × 11 columns</p>\n",
       "</div>"
      ],
      "text/plain": [
       "       carat  cut  color  clarity  depth  table  price  length  width  height  \\\n",
       "45962   0.24    2      1        7   61.3   57.0    526    4.00   4.02    2.46   \n",
       "47703   0.58    2      3        4   62.6   54.0   1884    5.30   5.34    3.33   \n",
       "38085   0.30    2      1        7   61.8   56.0   1013    4.35   4.33    2.68   \n",
       "11300   1.54    3      4        0   62.0   60.0   4980    7.32   7.40    4.56   \n",
       "6124    0.90    3      3        2   62.2   60.0   3984    6.14   6.07    3.80   \n",
       "...      ...  ...    ...      ...    ...    ...    ...     ...    ...     ...   \n",
       "22481   1.24    3      3        1   60.5   60.0  10508    6.95   6.91    4.19   \n",
       "8980    1.06    4      5        2   60.2   59.0   4507    6.62   6.67    4.00   \n",
       "5992    1.16    2      6        2   60.7   57.0   3955    6.77   6.83    4.13   \n",
       "9969    1.14    1      5        2   63.5   56.0   4702    6.58   6.62    4.19   \n",
       "8186    1.50    0      5        0   71.3   58.0   4368    6.85   6.81    4.87   \n",
       "\n",
       "           volume  \n",
       "45962   39.556800  \n",
       "47703   94.245660  \n",
       "38085   50.479140  \n",
       "11300  247.006080  \n",
       "6124   141.625240  \n",
       "...           ...  \n",
       "22481  201.222655  \n",
       "8980   176.621600  \n",
       "5992   190.967483  \n",
       "9969   182.514724  \n",
       "8186   227.178195  \n",
       "\n",
       "[30124 rows x 11 columns]"
      ]
     },
     "execution_count": 14,
     "metadata": {},
     "output_type": "execute_result"
    }
   ],
   "source": [
    "train"
   ]
  },
  {
   "cell_type": "code",
   "execution_count": 15,
   "metadata": {},
   "outputs": [],
   "source": [
    "X_train = train.drop(columns = 'price')\n",
    "y_train = train['price']\n",
    "X_validate = validate.drop(columns = 'price')\n",
    "y_validate = validate['price']\n",
    "X_test = test.drop(columns = 'price')\n",
    "y_test = test['price']"
   ]
  },
  {
   "cell_type": "code",
   "execution_count": 16,
   "metadata": {},
   "outputs": [],
   "source": [
    "X_train_scaled = wrangle.minmax_scale(X_train, X_train)\n",
    "X_validate_scaled = wrangle.minmax_scale(X_validate, X_train)\n",
    "X_test_scaled = wrangle.minmax_scale(X_test, X_train)"
   ]
  },
  {
   "cell_type": "code",
   "execution_count": 17,
   "metadata": {},
   "outputs": [
    {
     "name": "stdout",
     "output_type": "stream",
     "text": [
      "The best features are:['carat', 'color', 'table', 'length', 'width', 'height', 'volume']\n"
     ]
    }
   ],
   "source": [
    "explore.select_kbest(X_train_scaled, y_train, k = 7)"
   ]
  },
  {
   "cell_type": "code",
   "execution_count": 18,
   "metadata": {},
   "outputs": [
    {
     "name": "stdout",
     "output_type": "stream",
     "text": [
      "Best features are ['carat', 'depth', 'table', 'length', 'width', 'height', 'volume']\n"
     ]
    }
   ],
   "source": [
    "explore.rfe(X_train_scaled, y_train, k = 7, )"
   ]
  },
  {
   "cell_type": "code",
   "execution_count": 19,
   "metadata": {},
   "outputs": [
    {
     "data": {
      "text/plain": [
       "<AxesSubplot:>"
      ]
     },
     "execution_count": 19,
     "metadata": {},
     "output_type": "execute_result"
    },
    {
     "data": {
      "image/png": "[encoded data removed]",
      "text/plain": [
       "<Figure size 432x288 with 2 Axes>"
      ]
     },
     "metadata": {
      "needs_background": "light"
     },
     "output_type": "display_data"
    }
   ],
   "source": [
    "explore.heat_corr(train)"
   ]
  },
  {
   "cell_type": "code",
   "execution_count": 20,
   "metadata": {},
   "outputs": [
    {
     "data": {
      "text/plain": [
       "(array([14168.,  5214.,  4122.,  2183.,  1268.,   968.,   734.,   568.,\n",
       "          484.,   415.]),\n",
       " array([  326. ,  2175.7,  4025.4,  5875.1,  7724.8,  9574.5, 11424.2,\n",
       "        13273.9, 15123.6, 16973.3, 18823. ]),\n",
       " <BarContainer object of 10 artists>)"
      ]
     },
     "execution_count": 20,
     "metadata": {},
     "output_type": "execute_result"
    },
    {
     "data": {
      "image/png": "[encoded data removed]",
      "text/plain": [
       "<Figure size 432x288 with 1 Axes>"
      ]
     },
     "metadata": {
      "needs_background": "light"
     },
     "output_type": "display_data"
    }
   ],
   "source": [
    "plt.hist(y_train)"
   ]
  },
  {
   "cell_type": "code",
   "execution_count": 21,
   "metadata": {},
   "outputs": [],
   "source": [
    "y_train = pd.DataFrame(y_train)\n",
    "y_validate = pd.DataFrame(y_validate)"
   ]
  },
  {
   "cell_type": "code",
   "execution_count": 22,
   "metadata": {},
   "outputs": [],
   "source": [
    "y_train['pred_mean'] = y_train['price'].mean()"
   ]
  },
  {
   "cell_type": "code",
   "execution_count": 23,
   "metadata": {},
   "outputs": [],
   "source": [
    "y_validate['pred_mean'] = y_train['price'].mean()"
   ]
  },
  {
   "cell_type": "code",
   "execution_count": 24,
   "metadata": {},
   "outputs": [],
   "source": [
    "y_train['pred_med'] = y_train['price'].median()"
   ]
  },
  {
   "cell_type": "code",
   "execution_count": 25,
   "metadata": {},
   "outputs": [],
   "source": [
    "y_validate['pred_med'] = y_train['price'].median()"
   ]
  },
  {
   "cell_type": "code",
   "execution_count": 26,
   "metadata": {},
   "outputs": [
    {
     "data": {
      "text/html": [
       "<div>\n",
       "<style scoped>\n",
       "    .dataframe tbody tr th:only-of-type {\n",
       "        vertical-align: middle;\n",
       "    }\n",
       "\n",
       "    .dataframe tbody tr th {\n",
       "        vertical-align: top;\n",
       "    }\n",
       "\n",
       "    .dataframe thead th {\n",
       "        text-align: right;\n",
       "    }\n",
       "</style>\n",
       "<table border=\"1\" class=\"dataframe\">\n",
       "  <thead>\n",
       "    <tr style=\"text-align: right;\">\n",
       "      <th></th>\n",
       "      <th>price</th>\n",
       "      <th>pred_mean</th>\n",
       "      <th>pred_med</th>\n",
       "    </tr>\n",
       "  </thead>\n",
       "  <tbody>\n",
       "    <tr>\n",
       "      <th>45962</th>\n",
       "      <td>526</td>\n",
       "      <td>3930.217601</td>\n",
       "      <td>2390.0</td>\n",
       "    </tr>\n",
       "    <tr>\n",
       "      <th>47703</th>\n",
       "      <td>1884</td>\n",
       "      <td>3930.217601</td>\n",
       "      <td>2390.0</td>\n",
       "    </tr>\n",
       "    <tr>\n",
       "      <th>38085</th>\n",
       "      <td>1013</td>\n",
       "      <td>3930.217601</td>\n",
       "      <td>2390.0</td>\n",
       "    </tr>\n",
       "    <tr>\n",
       "      <th>11300</th>\n",
       "      <td>4980</td>\n",
       "      <td>3930.217601</td>\n",
       "      <td>2390.0</td>\n",
       "    </tr>\n",
       "    <tr>\n",
       "      <th>6124</th>\n",
       "      <td>3984</td>\n",
       "      <td>3930.217601</td>\n",
       "      <td>2390.0</td>\n",
       "    </tr>\n",
       "    <tr>\n",
       "      <th>...</th>\n",
       "      <td>...</td>\n",
       "      <td>...</td>\n",
       "      <td>...</td>\n",
       "    </tr>\n",
       "    <tr>\n",
       "      <th>22481</th>\n",
       "      <td>10508</td>\n",
       "      <td>3930.217601</td>\n",
       "      <td>2390.0</td>\n",
       "    </tr>\n",
       "    <tr>\n",
       "      <th>8980</th>\n",
       "      <td>4507</td>\n",
       "      <td>3930.217601</td>\n",
       "      <td>2390.0</td>\n",
       "    </tr>\n",
       "    <tr>\n",
       "      <th>5992</th>\n",
       "      <td>3955</td>\n",
       "      <td>3930.217601</td>\n",
       "      <td>2390.0</td>\n",
       "    </tr>\n",
       "    <tr>\n",
       "      <th>9969</th>\n",
       "      <td>4702</td>\n",
       "      <td>3930.217601</td>\n",
       "      <td>2390.0</td>\n",
       "    </tr>\n",
       "    <tr>\n",
       "      <th>8186</th>\n",
       "      <td>4368</td>\n",
       "      <td>3930.217601</td>\n",
       "      <td>2390.0</td>\n",
       "    </tr>\n",
       "  </tbody>\n",
       "</table>\n",
       "<p>30124 rows × 3 columns</p>\n",
       "</div>"
      ],
      "text/plain": [
       "       price    pred_mean  pred_med\n",
       "45962    526  3930.217601    2390.0\n",
       "47703   1884  3930.217601    2390.0\n",
       "38085   1013  3930.217601    2390.0\n",
       "11300   4980  3930.217601    2390.0\n",
       "6124    3984  3930.217601    2390.0\n",
       "...      ...          ...       ...\n",
       "22481  10508  3930.217601    2390.0\n",
       "8980    4507  3930.217601    2390.0\n",
       "5992    3955  3930.217601    2390.0\n",
       "9969    4702  3930.217601    2390.0\n",
       "8186    4368  3930.217601    2390.0\n",
       "\n",
       "[30124 rows x 3 columns]"
      ]
     },
     "execution_count": 26,
     "metadata": {},
     "output_type": "execute_result"
    }
   ],
   "source": [
    "y_train"
   ]
  },
  {
   "cell_type": "code",
   "execution_count": 27,
   "metadata": {},
   "outputs": [
    {
     "name": "stdout",
     "output_type": "stream",
     "text": [
      "RMSE using Mean\n",
      "Train/In-Sample:  3997.8 \n",
      "Validate/Out-of-Sample:  3929.56\n",
      "RMSE using Median\n",
      "Train/In-Sample:  4284.23 \n",
      "Validate/Out-of-Sample:  4209.12\n"
     ]
    }
   ],
   "source": [
    "# 3. RMSE of G3_pred_mean\n",
    "rmse_train = mean_squared_error(y_train.price, y_train.pred_mean)**(1/2)\n",
    "rmse_validate = mean_squared_error(y_validate.price, y_validate.pred_mean)**(1/2)\n",
    "\n",
    "print(\"RMSE using Mean\\nTrain/In-Sample: \", round(rmse_train, 2), \n",
    "      \"\\nValidate/Out-of-Sample: \", round(rmse_validate, 2))\n",
    "\n",
    "# 4. RMSE of G3_pred_median\n",
    "rmse_train = mean_squared_error(y_train.price, y_train.pred_med)**(1/2)\n",
    "rmse_validate = mean_squared_error(y_validate.price, y_validate.pred_med)**(1/2)\n",
    "\n",
    "print(\"RMSE using Median\\nTrain/In-Sample: \", round(rmse_train, 2), \n",
    "      \"\\nValidate/Out-of-Sample: \", round(rmse_validate, 2))"
   ]
  },
  {
   "cell_type": "code",
   "execution_count": 28,
   "metadata": {},
   "outputs": [
    {
     "data": {
      "image/png": "[encoded data removed]",
      "text/plain": [
       "<Figure size 720x720 with 1 Axes>"
      ]
     },
     "metadata": {
      "needs_background": "light"
     },
     "output_type": "display_data"
    }
   ],
   "source": [
    "plt.figure(figsize =(10,10))\n",
    "plt.hist(y_train.price, color='blue', alpha=.5, label=\"Actual Price\")\n",
    "plt.axvline(x=y_train.price.mean(), ymin=0, ymax=1, label = 'Mean')\n",
    "plt.axvline(x=y_train.price.median(), ymin=0, ymax=1, label = 'Median')\n",
    "plt.xlabel(\"Price\")\n",
    "plt.ylabel(\"count\")\n",
    "plt.legend()\n",
    "plt.tight_layout()\n",
    "plt.show()"
   ]
  },
  {
   "cell_type": "code",
   "execution_count": 29,
   "metadata": {},
   "outputs": [
    {
     "name": "stdout",
     "output_type": "stream",
     "text": [
      "RMSE for OLS using LinearRegression\n",
      "Training/In-Sample:  1343.750675843943 \n",
      "Validation/Out-of-Sample:  1330.2303064805358\n"
     ]
    }
   ],
   "source": [
    "lm = LinearRegression(normalize=True)\n",
    "\n",
    "lm.fit(X_train_scaled, y_train.price)\n",
    "y_train['pred_lm'] = lm.predict(X_train_scaled)\n",
    "rmse_train = mean_squared_error(y_train.price, y_train.pred_lm)**(1/2)\n",
    "\n",
    "y_validate['pred_lm'] = lm.predict(X_validate_scaled)\n",
    "rmse_validate = mean_squared_error(y_validate.price, y_validate.pred_lm)**(1/2)\n",
    "\n",
    "print(\"RMSE for OLS using LinearRegression\\nTraining/In-Sample: \", rmse_train, \n",
    "      \"\\nValidation/Out-of-Sample: \", rmse_validate)"
   ]
  },
  {
   "cell_type": "code",
   "execution_count": 30,
   "metadata": {},
   "outputs": [
    {
     "name": "stdout",
     "output_type": "stream",
     "text": [
      "RMSE for Lasso + Lars\n",
      "Training/In-Sample:  1444.2140307858544 \n",
      "Validation/Out-of-Sample:  1409.933794207559\n"
     ]
    }
   ],
   "source": [
    "lars = LassoLars(alpha=1.0)\n",
    "lars.fit(X_train_scaled, y_train.price)\n",
    "y_train['pred_lars'] = lars.predict(X_train_scaled)\n",
    "rmse_train = mean_squared_error(y_train.price, y_train.pred_lars)**(1/2)\n",
    "y_validate['pred_lars'] = lars.predict(X_validate_scaled)\n",
    "rmse_validate = mean_squared_error(y_validate.price, y_validate.pred_lars)**(1/2)\n",
    "\n",
    "print(\"RMSE for Lasso + Lars\\nTraining/In-Sample: \", rmse_train, \n",
    "      \"\\nValidation/Out-of-Sample: \", rmse_validate)"
   ]
  },
  {
   "cell_type": "code",
   "execution_count": 31,
   "metadata": {},
   "outputs": [
    {
     "name": "stdout",
     "output_type": "stream",
     "text": [
      "RMSE for GLM using Tweedie, power=1 & alpha=0\n",
      "Training/In-Sample:  3997.796104209439 \n",
      "Validation/Out-of-Sample:  3929.5550341441995\n"
     ]
    }
   ],
   "source": [
    "glm = TweedieRegressor(power=1, alpha=0)\n",
    "glm.fit(X_train, y_train.price)\n",
    "\n",
    "# predict train\n",
    "y_train['pred_glm'] = glm.predict(X_train_scaled)\n",
    "\n",
    "# evaluate: rmse\n",
    "rmse_train = mean_squared_error(y_train.price, y_train.pred_glm)**(1/2)\n",
    "\n",
    "# predict validate\n",
    "y_validate['pred_glm'] = glm.predict(X_validate_scaled)\n",
    "\n",
    "# evaluate: rmse\n",
    "rmse_validate = mean_squared_error(y_validate.price, y_validate.pred_glm)**(1/2)\n",
    "\n",
    "print(\"RMSE for GLM using Tweedie, power=1 & alpha=0\\nTraining/In-Sample: \", rmse_train, \n",
    "      \"\\nValidation/Out-of-Sample: \", rmse_validate)"
   ]
  },
  {
   "cell_type": "code",
   "execution_count": 32,
   "metadata": {},
   "outputs": [],
   "source": [
    "# make the polynomial features to get a new set of features\n",
    "pf = PolynomialFeatures(degree=2)\n",
    "\n",
    "# fit and transform X_train_scaled\n",
    "X_train_degree2 = pf.fit_transform(X_train_scaled)\n",
    "\n",
    "# transform X_validate_scaled & X_test_scaled\n",
    "X_validate_degree2 = pf.transform(X_validate_scaled)\n",
    "X_test_degree2 = pf.transform(X_test_scaled)"
   ]
  },
  {
   "cell_type": "code",
   "execution_count": 33,
   "metadata": {},
   "outputs": [
    {
     "name": "stdout",
     "output_type": "stream",
     "text": [
      "RMSE for Polynomial Model, degrees=2\n",
      "Training/In-Sample:  1022.171817320172 \n",
      "Validation/Out-of-Sample:  1086.350519314566\n"
     ]
    }
   ],
   "source": [
    "# create the model object\n",
    "lm2 = LinearRegression(normalize=True)\n",
    "\n",
    "lm2.fit(X_train_degree2, y_train.price)\n",
    "\n",
    "# predict train\n",
    "y_train['pred_lm2'] = lm2.predict(X_train_degree2)\n",
    "\n",
    "# evaluate: rmse\n",
    "rmse_train = mean_squared_error(y_train.price, y_train.pred_lm2)**(1/2)\n",
    "\n",
    "# predict validate\n",
    "y_validate['pred_lm2'] = lm2.predict(X_validate_degree2)\n",
    "\n",
    "# evaluate: rmse\n",
    "rmse_validate = mean_squared_error(y_validate.price, y_validate.pred_lm2)**(1/2)\n",
    "\n",
    "print(\"RMSE for Polynomial Model, degrees=2\\nTraining/In-Sample: \", rmse_train, \n",
    "      \"\\nValidation/Out-of-Sample: \", rmse_validate)"
   ]
  },
  {
   "cell_type": "code",
   "execution_count": 34,
   "metadata": {},
   "outputs": [
    {
     "data": {
      "text/html": [
       "<div>\n",
       "<style scoped>\n",
       "    .dataframe tbody tr th:only-of-type {\n",
       "        vertical-align: middle;\n",
       "    }\n",
       "\n",
       "    .dataframe tbody tr th {\n",
       "        vertical-align: top;\n",
       "    }\n",
       "\n",
       "    .dataframe thead th {\n",
       "        text-align: right;\n",
       "    }\n",
       "</style>\n",
       "<table border=\"1\" class=\"dataframe\">\n",
       "  <thead>\n",
       "    <tr style=\"text-align: right;\">\n",
       "      <th></th>\n",
       "      <th>price</th>\n",
       "      <th>pred_mean</th>\n",
       "      <th>pred_med</th>\n",
       "      <th>pred_lm</th>\n",
       "      <th>pred_lars</th>\n",
       "      <th>pred_glm</th>\n",
       "      <th>pred_lm2</th>\n",
       "    </tr>\n",
       "  </thead>\n",
       "  <tbody>\n",
       "    <tr>\n",
       "      <th>37127</th>\n",
       "      <td>971</td>\n",
       "      <td>3930.217601</td>\n",
       "      <td>2390.0</td>\n",
       "      <td>1047.908984</td>\n",
       "      <td>894.409216</td>\n",
       "      <td>3930.217601</td>\n",
       "      <td>889.690949</td>\n",
       "    </tr>\n",
       "    <tr>\n",
       "      <th>19344</th>\n",
       "      <td>8044</td>\n",
       "      <td>3930.217601</td>\n",
       "      <td>2390.0</td>\n",
       "      <td>9237.545514</td>\n",
       "      <td>9217.259514</td>\n",
       "      <td>3930.217601</td>\n",
       "      <td>9377.890507</td>\n",
       "    </tr>\n",
       "    <tr>\n",
       "      <th>17625</th>\n",
       "      <td>7098</td>\n",
       "      <td>3930.217601</td>\n",
       "      <td>2390.0</td>\n",
       "      <td>6074.589937</td>\n",
       "      <td>5848.893857</td>\n",
       "      <td>3930.217601</td>\n",
       "      <td>6340.616236</td>\n",
       "    </tr>\n",
       "    <tr>\n",
       "      <th>26018</th>\n",
       "      <td>645</td>\n",
       "      <td>3930.217601</td>\n",
       "      <td>2390.0</td>\n",
       "      <td>38.906083</td>\n",
       "      <td>388.713515</td>\n",
       "      <td>3930.217601</td>\n",
       "      <td>10.734049</td>\n",
       "    </tr>\n",
       "    <tr>\n",
       "      <th>13449</th>\n",
       "      <td>5522</td>\n",
       "      <td>3930.217601</td>\n",
       "      <td>2390.0</td>\n",
       "      <td>4690.871235</td>\n",
       "      <td>5153.904158</td>\n",
       "      <td>3930.217601</td>\n",
       "      <td>4715.930606</td>\n",
       "    </tr>\n",
       "    <tr>\n",
       "      <th>...</th>\n",
       "      <td>...</td>\n",
       "      <td>...</td>\n",
       "      <td>...</td>\n",
       "      <td>...</td>\n",
       "      <td>...</td>\n",
       "      <td>...</td>\n",
       "      <td>...</td>\n",
       "    </tr>\n",
       "    <tr>\n",
       "      <th>23445</th>\n",
       "      <td>11435</td>\n",
       "      <td>3930.217601</td>\n",
       "      <td>2390.0</td>\n",
       "      <td>9895.702908</td>\n",
       "      <td>9479.758151</td>\n",
       "      <td>3930.217601</td>\n",
       "      <td>11229.670987</td>\n",
       "    </tr>\n",
       "    <tr>\n",
       "      <th>48332</th>\n",
       "      <td>1959</td>\n",
       "      <td>3930.217601</td>\n",
       "      <td>2390.0</td>\n",
       "      <td>2539.801767</td>\n",
       "      <td>2506.061170</td>\n",
       "      <td>3930.217601</td>\n",
       "      <td>2059.177593</td>\n",
       "    </tr>\n",
       "    <tr>\n",
       "      <th>38586</th>\n",
       "      <td>1036</td>\n",
       "      <td>3930.217601</td>\n",
       "      <td>2390.0</td>\n",
       "      <td>1913.122511</td>\n",
       "      <td>1452.633366</td>\n",
       "      <td>3930.217601</td>\n",
       "      <td>1566.695683</td>\n",
       "    </tr>\n",
       "    <tr>\n",
       "      <th>28292</th>\n",
       "      <td>432</td>\n",
       "      <td>3930.217601</td>\n",
       "      <td>2390.0</td>\n",
       "      <td>-705.205241</td>\n",
       "      <td>-580.968691</td>\n",
       "      <td>3930.217601</td>\n",
       "      <td>456.822486</td>\n",
       "    </tr>\n",
       "    <tr>\n",
       "      <th>30187</th>\n",
       "      <td>722</td>\n",
       "      <td>3930.217601</td>\n",
       "      <td>2390.0</td>\n",
       "      <td>673.260822</td>\n",
       "      <td>1049.943143</td>\n",
       "      <td>3930.217601</td>\n",
       "      <td>404.104357</td>\n",
       "    </tr>\n",
       "  </tbody>\n",
       "</table>\n",
       "<p>12911 rows × 7 columns</p>\n",
       "</div>"
      ],
      "text/plain": [
       "       price    pred_mean  pred_med      pred_lm    pred_lars     pred_glm  \\\n",
       "37127    971  3930.217601    2390.0  1047.908984   894.409216  3930.217601   \n",
       "19344   8044  3930.217601    2390.0  9237.545514  9217.259514  3930.217601   \n",
       "17625   7098  3930.217601    2390.0  6074.589937  5848.893857  3930.217601   \n",
       "26018    645  3930.217601    2390.0    38.906083   388.713515  3930.217601   \n",
       "13449   5522  3930.217601    2390.0  4690.871235  5153.904158  3930.217601   \n",
       "...      ...          ...       ...          ...          ...          ...   \n",
       "23445  11435  3930.217601    2390.0  9895.702908  9479.758151  3930.217601   \n",
       "48332   1959  3930.217601    2390.0  2539.801767  2506.061170  3930.217601   \n",
       "38586   1036  3930.217601    2390.0  1913.122511  1452.633366  3930.217601   \n",
       "28292    432  3930.217601    2390.0  -705.205241  -580.968691  3930.217601   \n",
       "30187    722  3930.217601    2390.0   673.260822  1049.943143  3930.217601   \n",
       "\n",
       "           pred_lm2  \n",
       "37127    889.690949  \n",
       "19344   9377.890507  \n",
       "17625   6340.616236  \n",
       "26018     10.734049  \n",
       "13449   4715.930606  \n",
       "...             ...  \n",
       "23445  11229.670987  \n",
       "48332   2059.177593  \n",
       "38586   1566.695683  \n",
       "28292    456.822486  \n",
       "30187    404.104357  \n",
       "\n",
       "[12911 rows x 7 columns]"
      ]
     },
     "execution_count": 34,
     "metadata": {},
     "output_type": "execute_result"
    }
   ],
   "source": [
    "y_validate"
   ]
  },
  {
   "cell_type": "code",
   "execution_count": 35,
   "metadata": {},
   "outputs": [
    {
     "data": {
      "image/png": "[encoded data removed]",
      "text/plain": [
       "<Figure size 1152x576 with 1 Axes>"
      ]
     },
     "metadata": {
      "needs_background": "light"
     },
     "output_type": "display_data"
    }
   ],
   "source": [
    "# y_validate.head()\n",
    "plt.figure(figsize=(16,8))\n",
    "plt.axhline(label=\"No Error\")\n",
    "plt.scatter(y_validate.price, y_validate.pred_lm-y_validate.price, \n",
    "            alpha=.5, color=\"red\", s=100, label=\"Model: LinearRegression\")\n",
    "plt.scatter(y_validate.price, y_validate.pred_glm-y_validate.price, \n",
    "            alpha=.5, color=\"yellow\", s=100, label=\"Model: TweedieRegressor\")\n",
    "plt.scatter(y_validate.price, y_validate.pred_lm2-y_validate.price, \n",
    "            alpha=.5, color=\"green\", s=100, label=\"Model 2nd degree Polynomial\")\n",
    "plt.legend()\n",
    "plt.xlabel(\"Actual Price\")\n",
    "plt.ylabel(\"Residual/Error: Predicted Price - Actual Price\")\n",
    "plt.title(\"Do the size of errors change as the actual value changes?\")\n",
    "plt.show()"
   ]
  },
  {
   "cell_type": "code",
   "execution_count": 36,
   "metadata": {},
   "outputs": [
    {
     "data": {
      "image/png": "[encoded data removed]",
      "text/plain": [
       "<Figure size 720x720 with 1 Axes>"
      ]
     },
     "metadata": {
      "needs_background": "light"
     },
     "output_type": "display_data"
    }
   ],
   "source": [
    "# plot to visualize actual vs predicted. \n",
    "plt.figure(figsize=(10,10))\n",
    "plt.hist(y_validate.price, color='blue', alpha=.5, label=\"Actual Final Price\")\n",
    "plt.hist(y_validate.pred_lm, color='red', alpha=.5, label=\"Model: LinearRegression\")\n",
    "plt.hist(y_validate.pred_glm, color='yellow', alpha=.5, label=\"Model: TweedieRegressor\")\n",
    "plt.hist(y_validate.pred_lm2, color='green', alpha=.5, label=\"Model 2nd degree Polynomial\")\n",
    "plt.legend()\n",
    "plt.show()"
   ]
  },
  {
   "cell_type": "code",
   "execution_count": 37,
   "metadata": {},
   "outputs": [
    {
     "name": "stdout",
     "output_type": "stream",
     "text": [
      "RMSE for polynomial model using LinearRegression\n",
      "Out-of-Sample Performance:  1116.680093036342\n"
     ]
    }
   ],
   "source": [
    "y_test = pd.DataFrame(y_test)\n",
    "y_test['pred_lm2'] = lm2.predict(X_test_degree2)\n",
    "rmse_test = mean_squared_error(y_test.price, y_test.pred_lm2)**(1/2)\n",
    "print(\"RMSE for polynomial model using LinearRegression\\nOut-of-Sample Performance: \", rmse_test)\n"
   ]
  },
  {
   "cell_type": "code",
   "execution_count": 38,
   "metadata": {},
   "outputs": [
    {
     "data": {
      "text/plain": [
       "1116.680093036342"
      ]
     },
     "execution_count": 38,
     "metadata": {},
     "output_type": "execute_result"
    }
   ],
   "source": [
    "mean_squared_error(y_test.price, y_test.pred_lm2)**(1/2)"
   ]
  },
  {
   "cell_type": "code",
   "execution_count": 39,
   "metadata": {},
   "outputs": [
    {
     "data": {
      "text/plain": [
       "0.9232197713755885"
      ]
     },
     "execution_count": 39,
     "metadata": {},
     "output_type": "execute_result"
    }
   ],
   "source": [
    "from sklearn.metrics import r2_score\n",
    "r2_score(y_test.price, y_test.pred_lm2)"
   ]
  },
  {
   "cell_type": "code",
   "execution_count": 40,
   "metadata": {},
   "outputs": [],
   "source": [
    "y_test['pred_lm2'] = y_test.pred_lm2.round(2)"
   ]
  },
  {
   "cell_type": "code",
   "execution_count": 41,
   "metadata": {},
   "outputs": [],
   "source": [
    "y_test['baseline'] = y_test.price.mean()"
   ]
  },
  {
   "cell_type": "code",
   "execution_count": 42,
   "metadata": {},
   "outputs": [
    {
     "data": {
      "text/html": [
       "<div>\n",
       "<style scoped>\n",
       "    .dataframe tbody tr th:only-of-type {\n",
       "        vertical-align: middle;\n",
       "    }\n",
       "\n",
       "    .dataframe tbody tr th {\n",
       "        vertical-align: top;\n",
       "    }\n",
       "\n",
       "    .dataframe thead th {\n",
       "        text-align: right;\n",
       "    }\n",
       "</style>\n",
       "<table border=\"1\" class=\"dataframe\">\n",
       "  <thead>\n",
       "    <tr style=\"text-align: right;\">\n",
       "      <th></th>\n",
       "      <th>price</th>\n",
       "      <th>pred_lm2</th>\n",
       "      <th>baseline</th>\n",
       "    </tr>\n",
       "  </thead>\n",
       "  <tbody>\n",
       "    <tr>\n",
       "      <th>31935</th>\n",
       "      <td>776</td>\n",
       "      <td>695.85</td>\n",
       "      <td>3982.249373</td>\n",
       "    </tr>\n",
       "    <tr>\n",
       "      <th>28669</th>\n",
       "      <td>678</td>\n",
       "      <td>663.20</td>\n",
       "      <td>3982.249373</td>\n",
       "    </tr>\n",
       "    <tr>\n",
       "      <th>19766</th>\n",
       "      <td>8334</td>\n",
       "      <td>9072.36</td>\n",
       "      <td>3982.249373</td>\n",
       "    </tr>\n",
       "    <tr>\n",
       "      <th>36165</th>\n",
       "      <td>929</td>\n",
       "      <td>917.68</td>\n",
       "      <td>3982.249373</td>\n",
       "    </tr>\n",
       "    <tr>\n",
       "      <th>34076</th>\n",
       "      <td>852</td>\n",
       "      <td>843.70</td>\n",
       "      <td>3982.249373</td>\n",
       "    </tr>\n",
       "    <tr>\n",
       "      <th>...</th>\n",
       "      <td>...</td>\n",
       "      <td>...</td>\n",
       "      <td>...</td>\n",
       "    </tr>\n",
       "    <tr>\n",
       "      <th>45143</th>\n",
       "      <td>1654</td>\n",
       "      <td>1710.01</td>\n",
       "      <td>3982.249373</td>\n",
       "    </tr>\n",
       "    <tr>\n",
       "      <th>3213</th>\n",
       "      <td>3348</td>\n",
       "      <td>3311.77</td>\n",
       "      <td>3982.249373</td>\n",
       "    </tr>\n",
       "    <tr>\n",
       "      <th>10673</th>\n",
       "      <td>4840</td>\n",
       "      <td>5046.81</td>\n",
       "      <td>3982.249373</td>\n",
       "    </tr>\n",
       "    <tr>\n",
       "      <th>16656</th>\n",
       "      <td>6660</td>\n",
       "      <td>6600.98</td>\n",
       "      <td>3982.249373</td>\n",
       "    </tr>\n",
       "    <tr>\n",
       "      <th>35730</th>\n",
       "      <td>911</td>\n",
       "      <td>574.52</td>\n",
       "      <td>3982.249373</td>\n",
       "    </tr>\n",
       "  </tbody>\n",
       "</table>\n",
       "<p>10759 rows × 3 columns</p>\n",
       "</div>"
      ],
      "text/plain": [
       "       price  pred_lm2     baseline\n",
       "31935    776    695.85  3982.249373\n",
       "28669    678    663.20  3982.249373\n",
       "19766   8334   9072.36  3982.249373\n",
       "36165    929    917.68  3982.249373\n",
       "34076    852    843.70  3982.249373\n",
       "...      ...       ...          ...\n",
       "45143   1654   1710.01  3982.249373\n",
       "3213    3348   3311.77  3982.249373\n",
       "10673   4840   5046.81  3982.249373\n",
       "16656   6660   6600.98  3982.249373\n",
       "35730    911    574.52  3982.249373\n",
       "\n",
       "[10759 rows x 3 columns]"
      ]
     },
     "execution_count": 42,
     "metadata": {},
     "output_type": "execute_result"
    }
   ],
   "source": [
    "y_test"
   ]
  },
  {
   "cell_type": "code",
   "execution_count": 43,
   "metadata": {},
   "outputs": [
    {
     "data": {
      "text/html": [
       "<div>\n",
       "<style scoped>\n",
       "    .dataframe tbody tr th:only-of-type {\n",
       "        vertical-align: middle;\n",
       "    }\n",
       "\n",
       "    .dataframe tbody tr th {\n",
       "        vertical-align: top;\n",
       "    }\n",
       "\n",
       "    .dataframe thead th {\n",
       "        text-align: right;\n",
       "    }\n",
       "</style>\n",
       "<table border=\"1\" class=\"dataframe\">\n",
       "  <thead>\n",
       "    <tr style=\"text-align: right;\">\n",
       "      <th></th>\n",
       "      <th>metric</th>\n",
       "      <th>model_error</th>\n",
       "      <th>base_error</th>\n",
       "      <th>model_efficacy</th>\n",
       "    </tr>\n",
       "  </thead>\n",
       "  <tbody>\n",
       "    <tr>\n",
       "      <th>0</th>\n",
       "      <td>SSE</td>\n",
       "      <td>1.523701e+10</td>\n",
       "      <td>1.993511e+11</td>\n",
       "      <td>True</td>\n",
       "    </tr>\n",
       "    <tr>\n",
       "      <th>1</th>\n",
       "      <td>MSE</td>\n",
       "      <td>1.180157e+06</td>\n",
       "      <td>1.544041e+07</td>\n",
       "      <td>True</td>\n",
       "    </tr>\n",
       "    <tr>\n",
       "      <th>2</th>\n",
       "      <td>RMSE</td>\n",
       "      <td>1.086351e+03</td>\n",
       "      <td>3.929429e+03</td>\n",
       "      <td>True</td>\n",
       "    </tr>\n",
       "  </tbody>\n",
       "</table>\n",
       "</div>"
      ],
      "text/plain": [
       "  metric   model_error    base_error  model_efficacy\n",
       "0    SSE  1.523701e+10  1.993511e+11            True\n",
       "1    MSE  1.180157e+06  1.544041e+07            True\n",
       "2   RMSE  1.086351e+03  3.929429e+03            True"
      ]
     },
     "execution_count": 43,
     "metadata": {},
     "output_type": "execute_result"
    }
   ],
   "source": [
    "evaluate.better_than_baseline(y_validate['price'], y_validate['pred_lm2'])"
   ]
  },
  {
   "cell_type": "code",
   "execution_count": 44,
   "metadata": {},
   "outputs": [],
   "source": [
    "## Now with features"
   ]
  },
  {
   "cell_type": "code",
   "execution_count": 58,
   "metadata": {},
   "outputs": [],
   "source": [
    "diamonds_df = diamonds_df.rename(columns = {'x' : 'length', 'y' : 'width', 'z' : 'height'})"
   ]
  },
  {
   "cell_type": "code",
   "execution_count": 59,
   "metadata": {},
   "outputs": [],
   "source": [
    "diamonds_df['volume'] = diamonds_df['height'] * diamonds_df['width'] * diamonds_df['length']\n",
    "dnum_df = wrangle.encode_values(diamonds_df)\n",
    "dnum_df = dnum_df.dropna()\n",
    "dnum_df = dnum_df.drop_duplicates()\n",
    "dnum_df['volume'] = dnum_df['height'] * dnum_df['width'] * dnum_df['length']\n",
    "train, validate, test = prepare.train_validate_test_split(dnum_df)"
   ]
  },
  {
   "cell_type": "code",
   "execution_count": 60,
   "metadata": {},
   "outputs": [],
   "source": [
    "X_train = train[['carat','color','table','volume']]\n",
    "y_train = train['price']\n",
    "X_validate = validate[['carat','color','table','volume']]\n",
    "y_validate = validate['price']\n",
    "X_test = test[['carat','color','table','volume']]\n",
    "y_test = test['price']"
   ]
  },
  {
   "cell_type": "code",
   "execution_count": 61,
   "metadata": {},
   "outputs": [],
   "source": [
    "X_train_scaled = wrangle.minmax_scale(X_train, X_train)\n",
    "X_validate_scaled = wrangle.minmax_scale(X_validate, X_train)\n",
    "X_test_scaled = wrangle.minmax_scale(X_test, X_train)"
   ]
  },
  {
   "cell_type": "code",
   "execution_count": 62,
   "metadata": {},
   "outputs": [],
   "source": [
    "y_train = pd.DataFrame(y_train)\n",
    "y_validate = pd.DataFrame(y_validate)"
   ]
  },
  {
   "cell_type": "code",
   "execution_count": 63,
   "metadata": {},
   "outputs": [],
   "source": [
    "# make the polynomial features to get a new set of features\n",
    "pf = PolynomialFeatures(degree=2)\n",
    "\n",
    "# fit and transform X_train_scaled\n",
    "X_train_degree2 = pf.fit_transform(X_train_scaled)\n",
    "\n",
    "# transform X_validate_scaled & X_test_scaled\n",
    "X_validate_degree2 = pf.transform(X_validate_scaled)\n",
    "X_test_degree2 = pf.transform(X_test_scaled)"
   ]
  },
  {
   "cell_type": "code",
   "execution_count": 64,
   "metadata": {},
   "outputs": [
    {
     "name": "stdout",
     "output_type": "stream",
     "text": [
      "RMSE for OLS using LinearRegression\n",
      "Training/In-Sample:  1486.0586659811347 \n",
      "Validation/Out-of-Sample:  1455.582282654617\n"
     ]
    }
   ],
   "source": [
    "lm = LinearRegression(normalize=True)\n",
    "\n",
    "lm.fit(X_train_scaled, y_train.price)\n",
    "y_train['pred_lm'] = lm.predict(X_train_scaled)\n",
    "rmse_train = mean_squared_error(y_train.price, y_train.pred_lm)**(1/2)\n",
    "\n",
    "y_validate['pred_lm'] = lm.predict(X_validate_scaled)\n",
    "rmse_validate = mean_squared_error(y_validate.price, y_validate.pred_lm)**(1/2)\n",
    "\n",
    "print(\"RMSE for OLS using LinearRegression\\nTraining/In-Sample: \", rmse_train, \n",
    "      \"\\nValidation/Out-of-Sample: \", rmse_validate)"
   ]
  },
  {
   "cell_type": "code",
   "execution_count": 65,
   "metadata": {},
   "outputs": [
    {
     "name": "stdout",
     "output_type": "stream",
     "text": [
      "RMSE for Lasso + Lars\n",
      "Training/In-Sample:  1525.1786614465075 \n",
      "Validation/Out-of-Sample:  1486.223884496496\n"
     ]
    }
   ],
   "source": [
    "lars = LassoLars(alpha=1.0)\n",
    "lars.fit(X_train_scaled, y_train.price)\n",
    "y_train['pred_lars'] = lars.predict(X_train_scaled)\n",
    "rmse_train = mean_squared_error(y_train.price, y_train.pred_lars)**(1/2)\n",
    "y_validate['pred_lars'] = lars.predict(X_validate_scaled)\n",
    "rmse_validate = mean_squared_error(y_validate.price, y_validate.pred_lars)**(1/2)\n",
    "\n",
    "print(\"RMSE for Lasso + Lars\\nTraining/In-Sample: \", rmse_train, \n",
    "      \"\\nValidation/Out-of-Sample: \", rmse_validate)"
   ]
  },
  {
   "cell_type": "code",
   "execution_count": 66,
   "metadata": {},
   "outputs": [
    {
     "name": "stdout",
     "output_type": "stream",
     "text": [
      "RMSE for GLM using Tweedie, power=1 & alpha=0\n",
      "Training/In-Sample:  3997.796104209439 \n",
      "Validation/Out-of-Sample:  3929.5550341441995\n"
     ]
    }
   ],
   "source": [
    "glm = TweedieRegressor(power=1, alpha=0)\n",
    "glm.fit(X_train, y_train.price)\n",
    "\n",
    "# predict train\n",
    "y_train['pred_glm'] = glm.predict(X_train_scaled)\n",
    "\n",
    "# evaluate: rmse\n",
    "rmse_train = mean_squared_error(y_train.price, y_train.pred_glm)**(1/2)\n",
    "\n",
    "# predict validate\n",
    "y_validate['pred_glm'] = glm.predict(X_validate_scaled)\n",
    "\n",
    "# evaluate: rmse\n",
    "rmse_validate = mean_squared_error(y_validate.price, y_validate.pred_glm)**(1/2)\n",
    "\n",
    "print(\"RMSE for GLM using Tweedie, power=1 & alpha=0\\nTraining/In-Sample: \", rmse_train, \n",
    "      \"\\nValidation/Out-of-Sample: \", rmse_validate)"
   ]
  },
  {
   "cell_type": "code",
   "execution_count": 67,
   "metadata": {},
   "outputs": [
    {
     "name": "stdout",
     "output_type": "stream",
     "text": [
      "RMSE for Polynomial Model, degrees=2\n",
      "Training/In-Sample:  1409.8279068655943 \n",
      "Validation/Out-of-Sample:  1414.9425178692145\n"
     ]
    }
   ],
   "source": [
    "# create the model object\n",
    "lm2 = LinearRegression(normalize=True)\n",
    "\n",
    "lm2.fit(X_train_degree2, y_train.price)\n",
    "\n",
    "# predict train\n",
    "y_train['pred_lm2'] = lm2.predict(X_train_degree2)\n",
    "\n",
    "# evaluate: rmse\n",
    "rmse_train = mean_squared_error(y_train.price, y_train.pred_lm2)**(1/2)\n",
    "\n",
    "# predict validate\n",
    "y_validate['pred_lm2'] = lm2.predict(X_validate_degree2)\n",
    "\n",
    "# evaluate: rmse\n",
    "rmse_validate = mean_squared_error(y_validate.price, y_validate.pred_lm2)**(1/2)\n",
    "\n",
    "print(\"RMSE for Polynomial Model, degrees=2\\nTraining/In-Sample: \", rmse_train, \n",
    "      \"\\nValidation/Out-of-Sample: \", rmse_validate)"
   ]
  },
  {
   "cell_type": "code",
   "execution_count": 68,
   "metadata": {},
   "outputs": [
    {
     "data": {
      "image/png": "[encoded data removed]",
      "text/plain": [
       "<Figure size 720x720 with 1 Axes>"
      ]
     },
     "metadata": {
      "needs_background": "light"
     },
     "output_type": "display_data"
    }
   ],
   "source": [
    "plt.figure(figsize =(10,10))\n",
    "plt.hist(y_train.price, color='blue', alpha=.5, label=\"Actual Price\")\n",
    "plt.axvline(x=y_train.price.mean(), ymin=0, ymax=1, label = 'Mean')\n",
    "plt.axvline(x=y_train.price.median(), ymin=0, ymax=1, label = 'Median')\n",
    "plt.xlabel(\"Price\")\n",
    "plt.ylabel(\"count\")\n",
    "plt.legend()\n",
    "plt.tight_layout()\n",
    "plt.show()"
   ]
  },
  {
   "cell_type": "code",
   "execution_count": 69,
   "metadata": {},
   "outputs": [
    {
     "data": {
      "image/png": "[encoded data removed]",
      "text/plain": [
       "<Figure size 1152x576 with 1 Axes>"
      ]
     },
     "metadata": {
      "needs_background": "light"
     },
     "output_type": "display_data"
    }
   ],
   "source": [
    "plt.figure(figsize=(16,8))\n",
    "plt.axhline(label=\"No Error\")\n",
    "plt.scatter(y_validate.price, y_validate.pred_lm-y_validate.price, \n",
    "            alpha=.5, color=\"red\", s=100, label=\"Model: LinearRegression\")\n",
    "plt.scatter(y_validate.price, y_validate.pred_glm-y_validate.price, \n",
    "            alpha=.5, color=\"yellow\", s=100, label=\"Model: TweedieRegressor\")\n",
    "plt.scatter(y_validate.price, y_validate.pred_lm2-y_validate.price, \n",
    "            alpha=.5, color=\"green\", s=100, label=\"Model 2nd degree Polynomial\")\n",
    "plt.legend()\n",
    "plt.xlabel(\"Actual Price\")\n",
    "plt.ylabel(\"Residual/Error: Predicted Price - Actual Price\")\n",
    "plt.title(\"Do the size of errors change as the actual value changes?\")\n",
    "plt.show()"
   ]
  },
  {
   "cell_type": "code",
   "execution_count": 70,
   "metadata": {},
   "outputs": [
    {
     "data": {
      "text/html": [
       "<div>\n",
       "<style scoped>\n",
       "    .dataframe tbody tr th:only-of-type {\n",
       "        vertical-align: middle;\n",
       "    }\n",
       "\n",
       "    .dataframe tbody tr th {\n",
       "        vertical-align: top;\n",
       "    }\n",
       "\n",
       "    .dataframe thead th {\n",
       "        text-align: right;\n",
       "    }\n",
       "</style>\n",
       "<table border=\"1\" class=\"dataframe\">\n",
       "  <thead>\n",
       "    <tr style=\"text-align: right;\">\n",
       "      <th></th>\n",
       "      <th>price</th>\n",
       "      <th>pred_lm</th>\n",
       "      <th>pred_lars</th>\n",
       "      <th>pred_glm</th>\n",
       "      <th>pred_lm2</th>\n",
       "    </tr>\n",
       "  </thead>\n",
       "  <tbody>\n",
       "    <tr>\n",
       "      <th>37127</th>\n",
       "      <td>971</td>\n",
       "      <td>885.467803</td>\n",
       "      <td>921.020122</td>\n",
       "      <td>3930.217601</td>\n",
       "      <td>1052.346317</td>\n",
       "    </tr>\n",
       "    <tr>\n",
       "      <th>19344</th>\n",
       "      <td>8044</td>\n",
       "      <td>9503.108535</td>\n",
       "      <td>9091.318751</td>\n",
       "      <td>3930.217601</td>\n",
       "      <td>9393.860673</td>\n",
       "    </tr>\n",
       "    <tr>\n",
       "      <th>17625</th>\n",
       "      <td>7098</td>\n",
       "      <td>5845.714212</td>\n",
       "      <td>5595.571896</td>\n",
       "      <td>3930.217601</td>\n",
       "      <td>5872.165949</td>\n",
       "    </tr>\n",
       "    <tr>\n",
       "      <th>26018</th>\n",
       "      <td>645</td>\n",
       "      <td>64.483598</td>\n",
       "      <td>447.572151</td>\n",
       "      <td>3930.217601</td>\n",
       "      <td>-119.428266</td>\n",
       "    </tr>\n",
       "    <tr>\n",
       "      <th>13449</th>\n",
       "      <td>5522</td>\n",
       "      <td>5438.698329</td>\n",
       "      <td>5473.022262</td>\n",
       "      <td>3930.217601</td>\n",
       "      <td>5260.591583</td>\n",
       "    </tr>\n",
       "    <tr>\n",
       "      <th>...</th>\n",
       "      <td>...</td>\n",
       "      <td>...</td>\n",
       "      <td>...</td>\n",
       "      <td>...</td>\n",
       "      <td>...</td>\n",
       "    </tr>\n",
       "    <tr>\n",
       "      <th>23445</th>\n",
       "      <td>11435</td>\n",
       "      <td>9417.858405</td>\n",
       "      <td>9165.969760</td>\n",
       "      <td>3930.217601</td>\n",
       "      <td>9300.800852</td>\n",
       "    </tr>\n",
       "    <tr>\n",
       "      <th>48332</th>\n",
       "      <td>1959</td>\n",
       "      <td>3333.142021</td>\n",
       "      <td>2854.875874</td>\n",
       "      <td>3930.217601</td>\n",
       "      <td>2829.841539</td>\n",
       "    </tr>\n",
       "    <tr>\n",
       "      <th>38586</th>\n",
       "      <td>1036</td>\n",
       "      <td>983.808844</td>\n",
       "      <td>921.057836</td>\n",
       "      <td>3930.217601</td>\n",
       "      <td>1082.509566</td>\n",
       "    </tr>\n",
       "    <tr>\n",
       "      <th>28292</th>\n",
       "      <td>432</td>\n",
       "      <td>-1074.095868</td>\n",
       "      <td>-508.675596</td>\n",
       "      <td>3930.217601</td>\n",
       "      <td>-368.302581</td>\n",
       "    </tr>\n",
       "    <tr>\n",
       "      <th>30187</th>\n",
       "      <td>722</td>\n",
       "      <td>800.829830</td>\n",
       "      <td>896.519303</td>\n",
       "      <td>3930.217601</td>\n",
       "      <td>1041.266909</td>\n",
       "    </tr>\n",
       "  </tbody>\n",
       "</table>\n",
       "<p>12911 rows × 5 columns</p>\n",
       "</div>"
      ],
      "text/plain": [
       "       price      pred_lm    pred_lars     pred_glm     pred_lm2\n",
       "37127    971   885.467803   921.020122  3930.217601  1052.346317\n",
       "19344   8044  9503.108535  9091.318751  3930.217601  9393.860673\n",
       "17625   7098  5845.714212  5595.571896  3930.217601  5872.165949\n",
       "26018    645    64.483598   447.572151  3930.217601  -119.428266\n",
       "13449   5522  5438.698329  5473.022262  3930.217601  5260.591583\n",
       "...      ...          ...          ...          ...          ...\n",
       "23445  11435  9417.858405  9165.969760  3930.217601  9300.800852\n",
       "48332   1959  3333.142021  2854.875874  3930.217601  2829.841539\n",
       "38586   1036   983.808844   921.057836  3930.217601  1082.509566\n",
       "28292    432 -1074.095868  -508.675596  3930.217601  -368.302581\n",
       "30187    722   800.829830   896.519303  3930.217601  1041.266909\n",
       "\n",
       "[12911 rows x 5 columns]"
      ]
     },
     "execution_count": 70,
     "metadata": {},
     "output_type": "execute_result"
    }
   ],
   "source": [
    "y_validate"
   ]
  },
  {
   "cell_type": "code",
   "execution_count": 71,
   "metadata": {},
   "outputs": [
    {
     "data": {
      "image/png": "[encoded data removed]",
      "text/plain": [
       "<Figure size 720x720 with 1 Axes>"
      ]
     },
     "metadata": {
      "needs_background": "light"
     },
     "output_type": "display_data"
    }
   ],
   "source": [
    "# plot to visualize actual vs predicted. \n",
    "plt.figure(figsize=(10,10))\n",
    "plt.hist(y_validate.price, color='blue', alpha=.5, label=\"Actual Final Price\")\n",
    "plt.hist(y_validate.pred_lm, color='red', alpha=.5, label=\"Model: LinearRegression\")\n",
    "plt.hist(y_validate.pred_glm, color='yellow', alpha=.5, label=\"Model: TweedieRegressor\")\n",
    "plt.hist(y_validate.pred_lm2, color='green', alpha=.5, label=\"Model 2nd degree Polynomial\")\n",
    "plt.legend()\n",
    "plt.show()"
   ]
  },
  {
   "cell_type": "code",
   "execution_count": 72,
   "metadata": {},
   "outputs": [
    {
     "name": "stdout",
     "output_type": "stream",
     "text": [
      "RMSE for polynomial model using LinearRegression\n",
      "Out-of-Sample Performance:  1458.1890783169226\n"
     ]
    }
   ],
   "source": [
    "y_test = pd.DataFrame(y_test)\n",
    "y_test['pred_lm2'] = lm2.predict(X_test_degree2)\n",
    "rmse_test = mean_squared_error(y_test.price, y_test.pred_lm2)**(1/2)\n",
    "print(\"RMSE for polynomial model using LinearRegression\\nOut-of-Sample Performance: \", rmse_test)"
   ]
  },
  {
   "cell_type": "code",
   "execution_count": null,
   "metadata": {},
   "outputs": [],
   "source": []
  }
 ],
 "metadata": {
  "kernelspec": {
   "display_name": "Python 3",
   "language": "python",
   "name": "python3"
  },
  "language_info": {
   "codemirror_mode": {
    "name": "ipython",
    "version": 3
   },
   "file_extension": ".py",
   "mimetype": "text/x-python",
   "name": "python",
   "nbconvert_exporter": "python",
   "pygments_lexer": "ipython3",
   "version": "3.8.5"
  },
  "toc-showcode": true,
  "toc-showmarkdowntxt": true
 },
 "nbformat": 4,
 "nbformat_minor": 4
}
