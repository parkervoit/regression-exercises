{
 "cells": [
  {
   "cell_type": "code",
   "execution_count": 1,
   "metadata": {},
   "outputs": [],
   "source": [
    "import env, acquire, wrangle, prepare\n",
    "import pandas as pd\n",
    "import numpy as np\n",
    "import matplotlib.pyplot as plt\n",
    "import seaborn as sns\n",
    "import scipy.stats as stats\n",
    "import sklearn.preprocessing\n",
    "from sklearn.model_selection import train_test_split"
   ]
  },
  {
   "cell_type": "markdown",
   "metadata": {},
   "source": [
    "# Scaling Exercises\n",
    ">Do your work for these exercises in a jupyter notebook named scaling. Use the telco dataset you acquired and prepped in previous lesson. Once you are finished, you may wish to repeat the exercises on another dataset for additional practice.\n",
    "\n"
   ]
  },
  {
   "cell_type": "markdown",
   "metadata": {},
   "source": [
    "### 1.Apply the scalers we talked about in this lesson to your data and visualize the results for the unscaled and scaled distribution ."
   ]
  },
  {
   "cell_type": "code",
   "execution_count": 2,
   "metadata": {},
   "outputs": [],
   "source": [
    "telco_df = wrangle.wrangle_telco()# import df using wrangle function."
   ]
  },
  {
   "cell_type": "code",
   "execution_count": 3,
   "metadata": {},
   "outputs": [
    {
     "data": {
      "text/html": [
       "<div>\n",
       "<style scoped>\n",
       "    .dataframe tbody tr th:only-of-type {\n",
       "        vertical-align: middle;\n",
       "    }\n",
       "\n",
       "    .dataframe tbody tr th {\n",
       "        vertical-align: top;\n",
       "    }\n",
       "\n",
       "    .dataframe thead th {\n",
       "        text-align: right;\n",
       "    }\n",
       "</style>\n",
       "<table border=\"1\" class=\"dataframe\">\n",
       "  <thead>\n",
       "    <tr style=\"text-align: right;\">\n",
       "      <th></th>\n",
       "      <th>customer_id</th>\n",
       "      <th>monthly_charges</th>\n",
       "      <th>tenure</th>\n",
       "      <th>total_charges</th>\n",
       "      <th>churn</th>\n",
       "    </tr>\n",
       "  </thead>\n",
       "  <tbody>\n",
       "    <tr>\n",
       "      <th>5348</th>\n",
       "      <td>0040-HALCW</td>\n",
       "      <td>20.40</td>\n",
       "      <td>54.0</td>\n",
       "      <td>1090.60</td>\n",
       "      <td>No</td>\n",
       "    </tr>\n",
       "    <tr>\n",
       "      <th>5349</th>\n",
       "      <td>0042-RLHYP</td>\n",
       "      <td>19.70</td>\n",
       "      <td>69.0</td>\n",
       "      <td>1396.90</td>\n",
       "      <td>No</td>\n",
       "    </tr>\n",
       "    <tr>\n",
       "      <th>5350</th>\n",
       "      <td>0057-QBUQH</td>\n",
       "      <td>25.10</td>\n",
       "      <td>43.0</td>\n",
       "      <td>1070.15</td>\n",
       "      <td>No</td>\n",
       "    </tr>\n",
       "    <tr>\n",
       "      <th>5351</th>\n",
       "      <td>0064-SUDOG</td>\n",
       "      <td>20.30</td>\n",
       "      <td>12.0</td>\n",
       "      <td>224.50</td>\n",
       "      <td>No</td>\n",
       "    </tr>\n",
       "    <tr>\n",
       "      <th>5352</th>\n",
       "      <td>0071-NDAFP</td>\n",
       "      <td>25.50</td>\n",
       "      <td>25.0</td>\n",
       "      <td>630.60</td>\n",
       "      <td>No</td>\n",
       "    </tr>\n",
       "    <tr>\n",
       "      <th>...</th>\n",
       "      <td>...</td>\n",
       "      <td>...</td>\n",
       "      <td>...</td>\n",
       "      <td>...</td>\n",
       "      <td>...</td>\n",
       "    </tr>\n",
       "    <tr>\n",
       "      <th>7038</th>\n",
       "      <td>9919-FZDED</td>\n",
       "      <td>84.10</td>\n",
       "      <td>72.0</td>\n",
       "      <td>5981.65</td>\n",
       "      <td>No</td>\n",
       "    </tr>\n",
       "    <tr>\n",
       "      <th>7039</th>\n",
       "      <td>9926-PJHDQ</td>\n",
       "      <td>76.80</td>\n",
       "      <td>72.0</td>\n",
       "      <td>5468.45</td>\n",
       "      <td>No</td>\n",
       "    </tr>\n",
       "    <tr>\n",
       "      <th>7040</th>\n",
       "      <td>9928-BZVLZ</td>\n",
       "      <td>49.85</td>\n",
       "      <td>12.0</td>\n",
       "      <td>552.10</td>\n",
       "      <td>No</td>\n",
       "    </tr>\n",
       "    <tr>\n",
       "      <th>7041</th>\n",
       "      <td>9993-LHIEB</td>\n",
       "      <td>67.85</td>\n",
       "      <td>67.0</td>\n",
       "      <td>4627.65</td>\n",
       "      <td>No</td>\n",
       "    </tr>\n",
       "    <tr>\n",
       "      <th>7042</th>\n",
       "      <td>9995-HOTOH</td>\n",
       "      <td>59.00</td>\n",
       "      <td>63.0</td>\n",
       "      <td>3707.60</td>\n",
       "      <td>No</td>\n",
       "    </tr>\n",
       "  </tbody>\n",
       "</table>\n",
       "<p>1695 rows × 5 columns</p>\n",
       "</div>"
      ],
      "text/plain": [
       "     customer_id  monthly_charges  tenure  total_charges churn\n",
       "5348  0040-HALCW            20.40    54.0        1090.60    No\n",
       "5349  0042-RLHYP            19.70    69.0        1396.90    No\n",
       "5350  0057-QBUQH            25.10    43.0        1070.15    No\n",
       "5351  0064-SUDOG            20.30    12.0         224.50    No\n",
       "5352  0071-NDAFP            25.50    25.0         630.60    No\n",
       "...          ...              ...     ...            ...   ...\n",
       "7038  9919-FZDED            84.10    72.0        5981.65    No\n",
       "7039  9926-PJHDQ            76.80    72.0        5468.45    No\n",
       "7040  9928-BZVLZ            49.85    12.0         552.10    No\n",
       "7041  9993-LHIEB            67.85    67.0        4627.65    No\n",
       "7042  9995-HOTOH            59.00    63.0        3707.60    No\n",
       "\n",
       "[1695 rows x 5 columns]"
      ]
     },
     "execution_count": 3,
     "metadata": {},
     "output_type": "execute_result"
    }
   ],
   "source": [
    "telco_df"
   ]
  },
  {
   "cell_type": "code",
   "execution_count": 4,
   "metadata": {},
   "outputs": [
    {
     "data": {
      "image/png": "[encoded data removed]",
      "text/plain": [
       "<Figure size 432x288 with 1 Axes>"
      ]
     },
     "metadata": {
      "needs_background": "light"
     },
     "output_type": "display_data"
    },
    {
     "name": "stdout",
     "output_type": "stream",
     "text": [
      "Counts for monthly_charges\n",
      "\n",
      "19.70     21\n",
      "19.85     21\n",
      "20.05     19\n",
      "19.55     18\n",
      "19.75     17\n",
      "          ..\n",
      "23.40      1\n",
      "93.15      1\n",
      "96.90      1\n",
      "115.60     1\n",
      "62.15      1\n",
      "Name: monthly_charges, Length: 820, dtype: int64\n",
      "\n"
     ]
    },
    {
     "data": {
      "image/png": "[encoded data removed]",
      "text/plain": [
       "<Figure size 432x288 with 1 Axes>"
      ]
     },
     "metadata": {
      "needs_background": "light"
     },
     "output_type": "display_data"
    },
    {
     "name": "stdout",
     "output_type": "stream",
     "text": [
      "Counts for tenure\n",
      "\n",
      "72.0    343\n",
      "71.0    137\n",
      "70.0     88\n",
      "69.0     66\n",
      "68.0     65\n",
      "       ... \n",
      "9.0       3\n",
      "1.0       2\n",
      "28.0      1\n",
      "2.0       1\n",
      "5.0       1\n",
      "Name: tenure, Length: 73, dtype: int64\n",
      "\n"
     ]
    },
    {
     "data": {
      "image/png": "[encoded data removed]",
      "text/plain": [
       "<Figure size 432x288 with 1 Axes>"
      ]
     },
     "metadata": {
      "needs_background": "light"
     },
     "output_type": "display_data"
    },
    {
     "name": "stdout",
     "output_type": "stream",
     "text": [
      "Counts for total_charges\n",
      "\n",
      "0.00       10\n",
      "1161.75     2\n",
      "7334.05     2\n",
      "343.45      2\n",
      "1110.05     2\n",
      "           ..\n",
      "2893.40     1\n",
      "6457.15     1\n",
      "7782.85     1\n",
      "4652.40     1\n",
      "400.00      1\n",
      "Name: total_charges, Length: 1678, dtype: int64\n",
      "\n"
     ]
    },
    {
     "data": {
      "image/png": "[encoded data removed]",
      "text/plain": [
       "<Figure size 432x288 with 1 Axes>"
      ]
     },
     "metadata": {
      "needs_background": "light"
     },
     "output_type": "display_data"
    },
    {
     "name": "stdout",
     "output_type": "stream",
     "text": [
      "Counts for churn\n",
      "\n",
      "No     1647\n",
      "Yes      48\n",
      "Name: churn, dtype: int64\n",
      "\n"
     ]
    }
   ],
   "source": [
    "# use for loop to plot all distributions\n",
    "for x in telco_df.columns.drop(['customer_id']):\n",
    "    sns.histplot(telco_df[x])\n",
    "    plt.title(f'Distribution of {x}')\n",
    "    plt.tight_layout()\n",
    "    plt.show()\n",
    "    counts = telco_df[x].value_counts()\n",
    "    print(f'Counts for {x}\\n')\n",
    "    print(f'{counts}\\n')"
   ]
  },
  {
   "cell_type": "code",
   "execution_count": 5,
   "metadata": {},
   "outputs": [],
   "source": [
    "train, validate, test = prepare.train_validate_test_split(telco_df) # split data"
   ]
  },
  {
   "cell_type": "code",
   "execution_count": 6,
   "metadata": {},
   "outputs": [
    {
     "data": {
      "text/html": [
       "<div>\n",
       "<style scoped>\n",
       "    .dataframe tbody tr th:only-of-type {\n",
       "        vertical-align: middle;\n",
       "    }\n",
       "\n",
       "    .dataframe tbody tr th {\n",
       "        vertical-align: top;\n",
       "    }\n",
       "\n",
       "    .dataframe thead th {\n",
       "        text-align: right;\n",
       "    }\n",
       "</style>\n",
       "<table border=\"1\" class=\"dataframe\">\n",
       "  <thead>\n",
       "    <tr style=\"text-align: right;\">\n",
       "      <th></th>\n",
       "      <th>customer_id</th>\n",
       "      <th>monthly_charges</th>\n",
       "      <th>tenure</th>\n",
       "      <th>total_charges</th>\n",
       "      <th>churn</th>\n",
       "    </tr>\n",
       "  </thead>\n",
       "  <tbody>\n",
       "    <tr>\n",
       "      <th>6604</th>\n",
       "      <td>3298-QEICA</td>\n",
       "      <td>34.60</td>\n",
       "      <td>23.0</td>\n",
       "      <td>813.45</td>\n",
       "      <td>No</td>\n",
       "    </tr>\n",
       "    <tr>\n",
       "      <th>5573</th>\n",
       "      <td>3457-PQBYH</td>\n",
       "      <td>20.30</td>\n",
       "      <td>58.0</td>\n",
       "      <td>1160.75</td>\n",
       "      <td>No</td>\n",
       "    </tr>\n",
       "    <tr>\n",
       "      <th>6010</th>\n",
       "      <td>0572-ZJKLT</td>\n",
       "      <td>99.65</td>\n",
       "      <td>46.0</td>\n",
       "      <td>4630.20</td>\n",
       "      <td>No</td>\n",
       "    </tr>\n",
       "    <tr>\n",
       "      <th>5976</th>\n",
       "      <td>9814-AOUDH</td>\n",
       "      <td>19.50</td>\n",
       "      <td>53.0</td>\n",
       "      <td>1050.50</td>\n",
       "      <td>No</td>\n",
       "    </tr>\n",
       "    <tr>\n",
       "      <th>6172</th>\n",
       "      <td>4513-CXYIX</td>\n",
       "      <td>80.70</td>\n",
       "      <td>71.0</td>\n",
       "      <td>5676.00</td>\n",
       "      <td>No</td>\n",
       "    </tr>\n",
       "    <tr>\n",
       "      <th>...</th>\n",
       "      <td>...</td>\n",
       "      <td>...</td>\n",
       "      <td>...</td>\n",
       "      <td>...</td>\n",
       "      <td>...</td>\n",
       "    </tr>\n",
       "    <tr>\n",
       "      <th>5789</th>\n",
       "      <td>6928-ONTRW</td>\n",
       "      <td>19.70</td>\n",
       "      <td>72.0</td>\n",
       "      <td>1379.80</td>\n",
       "      <td>No</td>\n",
       "    </tr>\n",
       "    <tr>\n",
       "      <th>5446</th>\n",
       "      <td>1535-VTJOQ</td>\n",
       "      <td>25.15</td>\n",
       "      <td>24.0</td>\n",
       "      <td>553.00</td>\n",
       "      <td>No</td>\n",
       "    </tr>\n",
       "    <tr>\n",
       "      <th>6234</th>\n",
       "      <td>6035-RIIOM</td>\n",
       "      <td>97.20</td>\n",
       "      <td>54.0</td>\n",
       "      <td>5129.45</td>\n",
       "      <td>No</td>\n",
       "    </tr>\n",
       "    <tr>\n",
       "      <th>5670</th>\n",
       "      <td>5006-MXVRN</td>\n",
       "      <td>20.70</td>\n",
       "      <td>39.0</td>\n",
       "      <td>762.45</td>\n",
       "      <td>No</td>\n",
       "    </tr>\n",
       "    <tr>\n",
       "      <th>6941</th>\n",
       "      <td>8336-TAVKX</td>\n",
       "      <td>78.45</td>\n",
       "      <td>72.0</td>\n",
       "      <td>5682.25</td>\n",
       "      <td>No</td>\n",
       "    </tr>\n",
       "  </tbody>\n",
       "</table>\n",
       "<p>949 rows × 5 columns</p>\n",
       "</div>"
      ],
      "text/plain": [
       "     customer_id  monthly_charges  tenure  total_charges churn\n",
       "6604  3298-QEICA            34.60    23.0         813.45    No\n",
       "5573  3457-PQBYH            20.30    58.0        1160.75    No\n",
       "6010  0572-ZJKLT            99.65    46.0        4630.20    No\n",
       "5976  9814-AOUDH            19.50    53.0        1050.50    No\n",
       "6172  4513-CXYIX            80.70    71.0        5676.00    No\n",
       "...          ...              ...     ...            ...   ...\n",
       "5789  6928-ONTRW            19.70    72.0        1379.80    No\n",
       "5446  1535-VTJOQ            25.15    24.0         553.00    No\n",
       "6234  6035-RIIOM            97.20    54.0        5129.45    No\n",
       "5670  5006-MXVRN            20.70    39.0         762.45    No\n",
       "6941  8336-TAVKX            78.45    72.0        5682.25    No\n",
       "\n",
       "[949 rows x 5 columns]"
      ]
     },
     "execution_count": 6,
     "metadata": {},
     "output_type": "execute_result"
    }
   ],
   "source": [
    "train"
   ]
  },
  {
   "cell_type": "code",
   "execution_count": 7,
   "metadata": {},
   "outputs": [],
   "source": [
    "scaler = sklearn.preprocessing.MinMaxScaler()"
   ]
  },
  {
   "cell_type": "code",
   "execution_count": 8,
   "metadata": {},
   "outputs": [],
   "source": [
    "# create dfs that just contain the numeric variables\n",
    "x_train = train[['monthly_charges','tenure','total_charges']]\n",
    "x_validate = validate[['monthly_charges','tenure','total_charges']]\n",
    "x_test = test[['monthly_charges','tenure','total_charges']]"
   ]
  },
  {
   "cell_type": "code",
   "execution_count": 9,
   "metadata": {},
   "outputs": [],
   "source": [
    "# fit and transform the datasets with minmax\n",
    "x_train_scaled = scaler.fit_transform(x_train)\n",
    "x_validate_scaled = scaler.transform(x_validate)\n",
    "x_test_scaled = scaler.transform(x_test)"
   ]
  },
  {
   "cell_type": "code",
   "execution_count": 10,
   "metadata": {},
   "outputs": [],
   "source": [
    "# turn it into a df for easy manipulation\n",
    "x_train_scaled = pd.DataFrame(x_train_scaled)"
   ]
  },
  {
   "cell_type": "code",
   "execution_count": 11,
   "metadata": {},
   "outputs": [],
   "source": [
    "# rename the columns for readability\n",
    "x_train_scaled = x_train_scaled.rename(columns = {0:'monthly_charges',1:'tenure',2:'total_charges'})"
   ]
  },
  {
   "cell_type": "code",
   "execution_count": 12,
   "metadata": {},
   "outputs": [
    {
     "data": {
      "image/png": "[encoded data removed]",
      "text/plain": [
       "<Figure size 432x288 with 1 Axes>"
      ]
     },
     "metadata": {
      "needs_background": "light"
     },
     "output_type": "display_data"
    },
    {
     "data": {
      "image/png": "[encoded data removed]",
      "text/plain": [
       "<Figure size 432x288 with 1 Axes>"
      ]
     },
     "metadata": {
      "needs_background": "light"
     },
     "output_type": "display_data"
    },
    {
     "data": {
      "image/png": "[encoded data removed]",
      "text/plain": [
       "<Figure size 432x288 with 1 Axes>"
      ]
     },
     "metadata": {
      "needs_background": "light"
     },
     "output_type": "display_data"
    }
   ],
   "source": [
    "# loop it for distributions\n",
    "for x in x_train_scaled:\n",
    "    sns.histplot(x_train_scaled[x])\n",
    "    plt.title(f'Distribution of {x}')\n",
    "    plt.tight_layout()\n",
    "    plt.show()"
   ]
  },
  {
   "cell_type": "markdown",
   "metadata": {},
   "source": [
    "> Takeaways: general shape of the distribution stays the same, but it scales the data down to 0<x<1 "
   ]
  },
  {
   "cell_type": "code",
   "execution_count": 13,
   "metadata": {},
   "outputs": [],
   "source": [
    "# make a scaler using StandardScaler\n",
    "scaler1 = sklearn.preprocessing.StandardScaler()"
   ]
  },
  {
   "cell_type": "code",
   "execution_count": 14,
   "metadata": {},
   "outputs": [
    {
     "data": {
      "text/plain": [
       "StandardScaler()"
      ]
     },
     "execution_count": 14,
     "metadata": {},
     "output_type": "execute_result"
    }
   ],
   "source": [
    "scaler1.fit(x_train) # fit it"
   ]
  },
  {
   "cell_type": "code",
   "execution_count": 15,
   "metadata": {},
   "outputs": [],
   "source": [
    "#Transform the datasets \n",
    "x_train_scaled1 = scaler1.transform(x_train)\n",
    "x_validate_scaled1 = scaler1.transform(x_validate)\n",
    "x_test_scaled1 = scaler1.transform(x_test)"
   ]
  },
  {
   "cell_type": "code",
   "execution_count": 16,
   "metadata": {},
   "outputs": [],
   "source": [
    "# put it in a dataframe for easy manipulation\n",
    "x_train_scaled1 = pd.DataFrame(x_train_scaled1)"
   ]
  },
  {
   "cell_type": "code",
   "execution_count": 17,
   "metadata": {},
   "outputs": [],
   "source": [
    "# rename columns for readability\n",
    "x_train_scaled1 = x_train_scaled1.rename(columns = {0:'monthly_charges',1:'tenure',2:'total_charges'})"
   ]
  },
  {
   "cell_type": "code",
   "execution_count": 18,
   "metadata": {},
   "outputs": [
    {
     "data": {
      "image/png": "[encoded data removed]",
      "text/plain": [
       "<Figure size 432x288 with 1 Axes>"
      ]
     },
     "metadata": {
      "needs_background": "light"
     },
     "output_type": "display_data"
    },
    {
     "data": {
      "image/png": "[encoded data removed]",
      "text/plain": [
       "<Figure size 432x288 with 1 Axes>"
      ]
     },
     "metadata": {
      "needs_background": "light"
     },
     "output_type": "display_data"
    },
    {
     "data": {
      "image/png": "[encoded data removed]",
      "text/plain": [
       "<Figure size 432x288 with 1 Axes>"
      ]
     },
     "metadata": {
      "needs_background": "light"
     },
     "output_type": "display_data"
    }
   ],
   "source": [
    "# for loop for making visualizations\n",
    "for x in x_train_scaled1:\n",
    "    sns.histplot(x_train_scaled1[x])\n",
    "    plt.title(f'Distribution of {x}')\n",
    "    plt.tight_layout()\n",
    "    plt.show()"
   ]
  },
  {
   "cell_type": "markdown",
   "metadata": {},
   "source": [
    "> Takeaway: StandardScaler() places the mean at 0, and then scales everything by standard deviation. This gives negative and positive numbers. It mantains the distribution from the original"
   ]
  },
  {
   "cell_type": "code",
   "execution_count": 19,
   "metadata": {},
   "outputs": [],
   "source": [
    "# create scaler using Robust\n",
    "scaler2 = sklearn.preprocessing.RobustScaler()\n",
    "\n",
    "#fit it\n",
    "scaler2.fit(x_train)\n",
    "\n",
    "# transform datasets\n",
    "x_train_scaled2 = scaler2.transform(x_train)\n",
    "x_validate_scaled2 = scaler2.transform(x_validate)\n",
    "x_test_scaled2 = scaler2.transform(x_test)\n",
    "\n",
    "# place in a df\n",
    "x_train_scaled2 = pd.DataFrame(x_train_scaled2)\n",
    "\n",
    "# rename columns for readability\n",
    "x_train_scaled2 = x_train_scaled2.rename(columns = {0:'monthly_charges',1:'tenure',2:'total_charges'})"
   ]
  },
  {
   "cell_type": "code",
   "execution_count": 20,
   "metadata": {},
   "outputs": [
    {
     "data": {
      "image/png": "[encoded data removed]",
      "text/plain": [
       "<Figure size 432x288 with 1 Axes>"
      ]
     },
     "metadata": {
      "needs_background": "light"
     },
     "output_type": "display_data"
    },
    {
     "data": {
      "image/png": "[encoded data removed]",
      "text/plain": [
       "<Figure size 432x288 with 1 Axes>"
      ]
     },
     "metadata": {
      "needs_background": "light"
     },
     "output_type": "display_data"
    },
    {
     "data": {
      "image/png": "[encoded data removed]",
      "text/plain": [
       "<Figure size 432x288 with 1 Axes>"
      ]
     },
     "metadata": {
      "needs_background": "light"
     },
     "output_type": "display_data"
    }
   ],
   "source": [
    "# plot visualizations\n",
    "for x in x_train_scaled2:\n",
    "    sns.histplot(x_train_scaled2[x])\n",
    "    plt.title(f'Distribution of {x}')\n",
    "    plt.tight_layout()\n",
    "    plt.show()"
   ]
  },
  {
   "cell_type": "markdown",
   "metadata": {},
   "source": [
    "> Takeaway: does the same thing as standardScaler, but it more aggressively scales the outliers"
   ]
  },
  {
   "cell_type": "markdown",
   "metadata": {},
   "source": [
    "## 2. Apply the .inverse_transform method to your scaled data. Is the resulting dataset the exact same as the original data?"
   ]
  },
  {
   "cell_type": "code",
   "execution_count": 21,
   "metadata": {},
   "outputs": [],
   "source": [
    "# fit and transform the scaled data using scaler1, the minmax scaler\n",
    "inverse_scaler = scaler.inverse_transform(x_train_scaled)"
   ]
  },
  {
   "cell_type": "code",
   "execution_count": 22,
   "metadata": {},
   "outputs": [
    {
     "data": {
      "text/html": [
       "<div>\n",
       "<style scoped>\n",
       "    .dataframe tbody tr th:only-of-type {\n",
       "        vertical-align: middle;\n",
       "    }\n",
       "\n",
       "    .dataframe tbody tr th {\n",
       "        vertical-align: top;\n",
       "    }\n",
       "\n",
       "    .dataframe thead th {\n",
       "        text-align: right;\n",
       "    }\n",
       "</style>\n",
       "<table border=\"1\" class=\"dataframe\">\n",
       "  <thead>\n",
       "    <tr style=\"text-align: right;\">\n",
       "      <th></th>\n",
       "      <th>monthly_charges</th>\n",
       "      <th>tenure</th>\n",
       "      <th>total_charges</th>\n",
       "    </tr>\n",
       "  </thead>\n",
       "  <tbody>\n",
       "    <tr>\n",
       "      <th>0</th>\n",
       "      <td>34.60</td>\n",
       "      <td>23.0</td>\n",
       "      <td>813.45</td>\n",
       "    </tr>\n",
       "    <tr>\n",
       "      <th>1</th>\n",
       "      <td>20.30</td>\n",
       "      <td>58.0</td>\n",
       "      <td>1160.75</td>\n",
       "    </tr>\n",
       "    <tr>\n",
       "      <th>2</th>\n",
       "      <td>99.65</td>\n",
       "      <td>46.0</td>\n",
       "      <td>4630.20</td>\n",
       "    </tr>\n",
       "    <tr>\n",
       "      <th>3</th>\n",
       "      <td>19.50</td>\n",
       "      <td>53.0</td>\n",
       "      <td>1050.50</td>\n",
       "    </tr>\n",
       "    <tr>\n",
       "      <th>4</th>\n",
       "      <td>80.70</td>\n",
       "      <td>71.0</td>\n",
       "      <td>5676.00</td>\n",
       "    </tr>\n",
       "    <tr>\n",
       "      <th>...</th>\n",
       "      <td>...</td>\n",
       "      <td>...</td>\n",
       "      <td>...</td>\n",
       "    </tr>\n",
       "    <tr>\n",
       "      <th>944</th>\n",
       "      <td>19.70</td>\n",
       "      <td>72.0</td>\n",
       "      <td>1379.80</td>\n",
       "    </tr>\n",
       "    <tr>\n",
       "      <th>945</th>\n",
       "      <td>25.15</td>\n",
       "      <td>24.0</td>\n",
       "      <td>553.00</td>\n",
       "    </tr>\n",
       "    <tr>\n",
       "      <th>946</th>\n",
       "      <td>97.20</td>\n",
       "      <td>54.0</td>\n",
       "      <td>5129.45</td>\n",
       "    </tr>\n",
       "    <tr>\n",
       "      <th>947</th>\n",
       "      <td>20.70</td>\n",
       "      <td>39.0</td>\n",
       "      <td>762.45</td>\n",
       "    </tr>\n",
       "    <tr>\n",
       "      <th>948</th>\n",
       "      <td>78.45</td>\n",
       "      <td>72.0</td>\n",
       "      <td>5682.25</td>\n",
       "    </tr>\n",
       "  </tbody>\n",
       "</table>\n",
       "<p>949 rows × 3 columns</p>\n",
       "</div>"
      ],
      "text/plain": [
       "     monthly_charges  tenure  total_charges\n",
       "0              34.60    23.0         813.45\n",
       "1              20.30    58.0        1160.75\n",
       "2              99.65    46.0        4630.20\n",
       "3              19.50    53.0        1050.50\n",
       "4              80.70    71.0        5676.00\n",
       "..               ...     ...            ...\n",
       "944            19.70    72.0        1379.80\n",
       "945            25.15    24.0         553.00\n",
       "946            97.20    54.0        5129.45\n",
       "947            20.70    39.0         762.45\n",
       "948            78.45    72.0        5682.25\n",
       "\n",
       "[949 rows x 3 columns]"
      ]
     },
     "execution_count": 22,
     "metadata": {},
     "output_type": "execute_result"
    }
   ],
   "source": [
    "# place in dataframe, rename columns\n",
    "inverse_scaler = pd.DataFrame(inverse_scaler)\n",
    "inverse_scaler = inverse_scaler.rename(columns = {0:'monthly_charges',1:'tenure',2:'total_charges'})\n",
    "inverse_scaler"
   ]
  },
  {
   "cell_type": "code",
   "execution_count": 23,
   "metadata": {},
   "outputs": [
    {
     "data": {
      "text/html": [
       "<div>\n",
       "<style scoped>\n",
       "    .dataframe tbody tr th:only-of-type {\n",
       "        vertical-align: middle;\n",
       "    }\n",
       "\n",
       "    .dataframe tbody tr th {\n",
       "        vertical-align: top;\n",
       "    }\n",
       "\n",
       "    .dataframe thead th {\n",
       "        text-align: right;\n",
       "    }\n",
       "</style>\n",
       "<table border=\"1\" class=\"dataframe\">\n",
       "  <thead>\n",
       "    <tr style=\"text-align: right;\">\n",
       "      <th></th>\n",
       "      <th>monthly_charges</th>\n",
       "      <th>tenure</th>\n",
       "      <th>total_charges</th>\n",
       "    </tr>\n",
       "  </thead>\n",
       "  <tbody>\n",
       "    <tr>\n",
       "      <th>0</th>\n",
       "      <td>34.60</td>\n",
       "      <td>23.0</td>\n",
       "      <td>813.45</td>\n",
       "    </tr>\n",
       "    <tr>\n",
       "      <th>1</th>\n",
       "      <td>20.30</td>\n",
       "      <td>58.0</td>\n",
       "      <td>1160.75</td>\n",
       "    </tr>\n",
       "    <tr>\n",
       "      <th>2</th>\n",
       "      <td>99.65</td>\n",
       "      <td>46.0</td>\n",
       "      <td>4630.20</td>\n",
       "    </tr>\n",
       "    <tr>\n",
       "      <th>3</th>\n",
       "      <td>19.50</td>\n",
       "      <td>53.0</td>\n",
       "      <td>1050.50</td>\n",
       "    </tr>\n",
       "    <tr>\n",
       "      <th>4</th>\n",
       "      <td>80.70</td>\n",
       "      <td>71.0</td>\n",
       "      <td>5676.00</td>\n",
       "    </tr>\n",
       "    <tr>\n",
       "      <th>...</th>\n",
       "      <td>...</td>\n",
       "      <td>...</td>\n",
       "      <td>...</td>\n",
       "    </tr>\n",
       "    <tr>\n",
       "      <th>944</th>\n",
       "      <td>19.70</td>\n",
       "      <td>72.0</td>\n",
       "      <td>1379.80</td>\n",
       "    </tr>\n",
       "    <tr>\n",
       "      <th>945</th>\n",
       "      <td>25.15</td>\n",
       "      <td>24.0</td>\n",
       "      <td>553.00</td>\n",
       "    </tr>\n",
       "    <tr>\n",
       "      <th>946</th>\n",
       "      <td>97.20</td>\n",
       "      <td>54.0</td>\n",
       "      <td>5129.45</td>\n",
       "    </tr>\n",
       "    <tr>\n",
       "      <th>947</th>\n",
       "      <td>20.70</td>\n",
       "      <td>39.0</td>\n",
       "      <td>762.45</td>\n",
       "    </tr>\n",
       "    <tr>\n",
       "      <th>948</th>\n",
       "      <td>78.45</td>\n",
       "      <td>72.0</td>\n",
       "      <td>5682.25</td>\n",
       "    </tr>\n",
       "  </tbody>\n",
       "</table>\n",
       "<p>949 rows × 3 columns</p>\n",
       "</div>"
      ],
      "text/plain": [
       "     monthly_charges  tenure  total_charges\n",
       "0              34.60    23.0         813.45\n",
       "1              20.30    58.0        1160.75\n",
       "2              99.65    46.0        4630.20\n",
       "3              19.50    53.0        1050.50\n",
       "4              80.70    71.0        5676.00\n",
       "..               ...     ...            ...\n",
       "944            19.70    72.0        1379.80\n",
       "945            25.15    24.0         553.00\n",
       "946            97.20    54.0        5129.45\n",
       "947            20.70    39.0         762.45\n",
       "948            78.45    72.0        5682.25\n",
       "\n",
       "[949 rows x 3 columns]"
      ]
     },
     "execution_count": 23,
     "metadata": {},
     "output_type": "execute_result"
    }
   ],
   "source": [
    "# do the same process on another scaled dataset\n",
    "inverse_scaler1 = scaler1.inverse_transform(x_train_scaled1)\n",
    "inverse_scaler1 = pd.DataFrame(inverse_scaler1)\n",
    "inverse_scaler1 = inverse_scaler1.rename(columns = {0:'monthly_charges',1:'tenure',2:'total_charges'})\n",
    "inverse_scaler1"
   ]
  },
  {
   "cell_type": "markdown",
   "metadata": {},
   "source": [
    "> Takeaways: .inverse_transform outputs do match the original dataset with some slight variation. My hypothesis is that the slight difference in values is due to how the floating numbers are handled when transformed and inverse_transformed. Its probably introducing a slight error that results in values being off by a small amount. "
   ]
  },
  {
   "cell_type": "markdown",
   "metadata": {},
   "source": [
    "### 3. Read the documentation for sklearn's QuantileTransformer. Use normal for the output_distribution and apply this scaler to your data. Visualize the result of your data scaling."
   ]
  },
  {
   "cell_type": "code",
   "execution_count": 24,
   "metadata": {},
   "outputs": [],
   "source": [
    "# set quantiles to the size of the dataset so I dont get an error, output dist is normal\n",
    "qt = sklearn.preprocessing.QuantileTransformer(n_quantiles = 949, output_distribution = 'normal')\n",
    "x_train_quant = qt.fit_transform(x_train)# fit transform it"
   ]
  },
  {
   "cell_type": "code",
   "execution_count": 25,
   "metadata": {},
   "outputs": [],
   "source": [
    "# put in a dataframe and rename columns\n",
    "x_train_quant = pd.DataFrame(x_train_quant)\n",
    "x_train_quant = x_train_quant.rename(columns = {0:'monthly_charges',1:'tenure',2:'total_charges'})"
   ]
  },
  {
   "cell_type": "code",
   "execution_count": 26,
   "metadata": {},
   "outputs": [
    {
     "data": {
      "image/png": "[encoded data removed]",
      "text/plain": [
       "<Figure size 432x288 with 1 Axes>"
      ]
     },
     "metadata": {
      "needs_background": "light"
     },
     "output_type": "display_data"
    },
    {
     "data": {
      "image/png": "[encoded data removed]",
      "text/plain": [
       "<Figure size 432x288 with 1 Axes>"
      ]
     },
     "metadata": {
      "needs_background": "light"
     },
     "output_type": "display_data"
    },
    {
     "data": {
      "image/png": "[encoded data removed]",
      "text/plain": [
       "<Figure size 432x288 with 1 Axes>"
      ]
     },
     "metadata": {
      "needs_background": "light"
     },
     "output_type": "display_data"
    }
   ],
   "source": [
    "#visualize distributions\n",
    "for x in x_train_quant:\n",
    "    sns.histplot(x_train_quant[x])\n",
    "    plt.title(f'Distribution of {x}')\n",
    "    plt.tight_layout()\n",
    "    plt.show()"
   ]
  },
  {
   "cell_type": "markdown",
   "metadata": {},
   "source": [
    "> Takeaways: setting it as normal put's it in a bell curve distribution , changes values to SD. This would be useful if you want to run a t test on non-normally distributed data. "
   ]
  },
  {
   "cell_type": "markdown",
   "metadata": {},
   "source": [
    "### 4. Use the QuantileTransformer, but omit the output_distribution argument. Visualize your results. What do you notice?"
   ]
  },
  {
   "cell_type": "code",
   "execution_count": 27,
   "metadata": {},
   "outputs": [],
   "source": [
    "# remove the output_dist, uses default distribution which is 'uniform'\n",
    "qt1 = sklearn.preprocessing.QuantileTransformer(n_quantiles = 949)\n",
    "x_train_quant1 = qt1.fit_transform(x_train)# fit and transform data"
   ]
  },
  {
   "cell_type": "code",
   "execution_count": 28,
   "metadata": {},
   "outputs": [],
   "source": [
    "# put it in a df and rename columns\n",
    "x_train_quant1 = pd.DataFrame(x_train_quant1)\n",
    "x_train_quant1 = x_train_quant1.rename(columns = {0:'monthly_charges',1:'tenure',2:'total_charges'})"
   ]
  },
  {
   "cell_type": "code",
   "execution_count": 29,
   "metadata": {},
   "outputs": [
    {
     "data": {
      "image/png": "[encoded data removed]",
      "text/plain": [
       "<Figure size 432x288 with 1 Axes>"
      ]
     },
     "metadata": {
      "needs_background": "light"
     },
     "output_type": "display_data"
    },
    {
     "data": {
      "image/png": "[encoded data removed]",
      "text/plain": [
       "<Figure size 432x288 with 1 Axes>"
      ]
     },
     "metadata": {
      "needs_background": "light"
     },
     "output_type": "display_data"
    },
    {
     "data": {
      "image/png": "[encoded data removed]",
      "text/plain": [
       "<Figure size 432x288 with 1 Axes>"
      ]
     },
     "metadata": {
      "needs_background": "light"
     },
     "output_type": "display_data"
    }
   ],
   "source": [
    "# plot dist\n",
    "for x in x_train_quant1:\n",
    "    sns.histplot(x_train_quant1[x])\n",
    "    plt.title(f'Distribution of {x}')\n",
    "    plt.tight_layout()\n",
    "    plt.show()"
   ]
  },
  {
   "cell_type": "markdown",
   "metadata": {},
   "source": [
    ">Places all values on a range so that the distribution is uniform. "
   ]
  },
  {
   "cell_type": "markdown",
   "metadata": {},
   "source": [
    "### 5.Based on the work you've done, choose a scaling method for your dataset. Write a function within your prepare.py that accepts as input the train, validate, and test data splits, and returns the scaled versions of each. Be sure to only learn the parameters for scaling from your training data!"
   ]
  },
  {
   "cell_type": "code",
   "execution_count": 30,
   "metadata": {},
   "outputs": [],
   "source": [
    "# this function will take a dataframe as an input and outputs a df with scaled values \n",
    "def minmax_scale(data_set):\n",
    "    \n",
    "    # create scaling object\n",
    "    scaler = sklearn.preprocessing.MinMaxScaler()\n",
    "    \n",
    "    # fit and transform the data\n",
    "    x_scaled = scaler.fit_transform(data_set)\n",
    "    \n",
    "    # place into a dataframe\n",
    "    x_scaled = pd.DataFrame(x_scaled)\n",
    "    \n",
    "    # rename columns\n",
    "    x_scaled.columns = data_set.columns\n",
    "    \n",
    "    return x_scaled"
   ]
  },
  {
   "cell_type": "code",
   "execution_count": 31,
   "metadata": {},
   "outputs": [
    {
     "data": {
      "text/html": [
       "<div>\n",
       "<style scoped>\n",
       "    .dataframe tbody tr th:only-of-type {\n",
       "        vertical-align: middle;\n",
       "    }\n",
       "\n",
       "    .dataframe tbody tr th {\n",
       "        vertical-align: top;\n",
       "    }\n",
       "\n",
       "    .dataframe thead th {\n",
       "        text-align: right;\n",
       "    }\n",
       "</style>\n",
       "<table border=\"1\" class=\"dataframe\">\n",
       "  <thead>\n",
       "    <tr style=\"text-align: right;\">\n",
       "      <th></th>\n",
       "      <th>monthly_charges</th>\n",
       "      <th>tenure</th>\n",
       "      <th>total_charges</th>\n",
       "    </tr>\n",
       "  </thead>\n",
       "  <tbody>\n",
       "    <tr>\n",
       "      <th>0</th>\n",
       "      <td>0.161435</td>\n",
       "      <td>0.319444</td>\n",
       "      <td>0.093797</td>\n",
       "    </tr>\n",
       "    <tr>\n",
       "      <th>1</th>\n",
       "      <td>0.018934</td>\n",
       "      <td>0.805556</td>\n",
       "      <td>0.133843</td>\n",
       "    </tr>\n",
       "    <tr>\n",
       "      <th>2</th>\n",
       "      <td>0.809666</td>\n",
       "      <td>0.638889</td>\n",
       "      <td>0.533898</td>\n",
       "    </tr>\n",
       "    <tr>\n",
       "      <th>3</th>\n",
       "      <td>0.010962</td>\n",
       "      <td>0.736111</td>\n",
       "      <td>0.121131</td>\n",
       "    </tr>\n",
       "    <tr>\n",
       "      <th>4</th>\n",
       "      <td>0.620827</td>\n",
       "      <td>0.986111</td>\n",
       "      <td>0.654486</td>\n",
       "    </tr>\n",
       "    <tr>\n",
       "      <th>...</th>\n",
       "      <td>...</td>\n",
       "      <td>...</td>\n",
       "      <td>...</td>\n",
       "    </tr>\n",
       "    <tr>\n",
       "      <th>944</th>\n",
       "      <td>0.012955</td>\n",
       "      <td>1.000000</td>\n",
       "      <td>0.159102</td>\n",
       "    </tr>\n",
       "    <tr>\n",
       "      <th>945</th>\n",
       "      <td>0.067265</td>\n",
       "      <td>0.333333</td>\n",
       "      <td>0.063765</td>\n",
       "    </tr>\n",
       "    <tr>\n",
       "      <th>946</th>\n",
       "      <td>0.785252</td>\n",
       "      <td>0.750000</td>\n",
       "      <td>0.591465</td>\n",
       "    </tr>\n",
       "    <tr>\n",
       "      <th>947</th>\n",
       "      <td>0.022920</td>\n",
       "      <td>0.541667</td>\n",
       "      <td>0.087916</td>\n",
       "    </tr>\n",
       "    <tr>\n",
       "      <th>948</th>\n",
       "      <td>0.598406</td>\n",
       "      <td>1.000000</td>\n",
       "      <td>0.655207</td>\n",
       "    </tr>\n",
       "  </tbody>\n",
       "</table>\n",
       "<p>949 rows × 3 columns</p>\n",
       "</div>"
      ],
      "text/plain": [
       "     monthly_charges    tenure  total_charges\n",
       "0           0.161435  0.319444       0.093797\n",
       "1           0.018934  0.805556       0.133843\n",
       "2           0.809666  0.638889       0.533898\n",
       "3           0.010962  0.736111       0.121131\n",
       "4           0.620827  0.986111       0.654486\n",
       "..               ...       ...            ...\n",
       "944         0.012955  1.000000       0.159102\n",
       "945         0.067265  0.333333       0.063765\n",
       "946         0.785252  0.750000       0.591465\n",
       "947         0.022920  0.541667       0.087916\n",
       "948         0.598406  1.000000       0.655207\n",
       "\n",
       "[949 rows x 3 columns]"
      ]
     },
     "execution_count": 31,
     "metadata": {},
     "output_type": "execute_result"
    }
   ],
   "source": [
    "# testing the function in the workbook to ensure it works\n",
    "minmax_scale(train[['monthly_charges','tenure','total_charges']])"
   ]
  },
  {
   "cell_type": "code",
   "execution_count": 32,
   "metadata": {},
   "outputs": [
    {
     "data": {
      "text/html": [
       "<div>\n",
       "<style scoped>\n",
       "    .dataframe tbody tr th:only-of-type {\n",
       "        vertical-align: middle;\n",
       "    }\n",
       "\n",
       "    .dataframe tbody tr th {\n",
       "        vertical-align: top;\n",
       "    }\n",
       "\n",
       "    .dataframe thead th {\n",
       "        text-align: right;\n",
       "    }\n",
       "</style>\n",
       "<table border=\"1\" class=\"dataframe\">\n",
       "  <thead>\n",
       "    <tr style=\"text-align: right;\">\n",
       "      <th></th>\n",
       "      <th>monthly_charges</th>\n",
       "      <th>tenure</th>\n",
       "      <th>total_charges</th>\n",
       "    </tr>\n",
       "  </thead>\n",
       "  <tbody>\n",
       "    <tr>\n",
       "      <th>0</th>\n",
       "      <td>0.161435</td>\n",
       "      <td>0.319444</td>\n",
       "      <td>0.093797</td>\n",
       "    </tr>\n",
       "    <tr>\n",
       "      <th>1</th>\n",
       "      <td>0.018934</td>\n",
       "      <td>0.805556</td>\n",
       "      <td>0.133843</td>\n",
       "    </tr>\n",
       "    <tr>\n",
       "      <th>2</th>\n",
       "      <td>0.809666</td>\n",
       "      <td>0.638889</td>\n",
       "      <td>0.533898</td>\n",
       "    </tr>\n",
       "    <tr>\n",
       "      <th>3</th>\n",
       "      <td>0.010962</td>\n",
       "      <td>0.736111</td>\n",
       "      <td>0.121131</td>\n",
       "    </tr>\n",
       "    <tr>\n",
       "      <th>4</th>\n",
       "      <td>0.620827</td>\n",
       "      <td>0.986111</td>\n",
       "      <td>0.654486</td>\n",
       "    </tr>\n",
       "    <tr>\n",
       "      <th>...</th>\n",
       "      <td>...</td>\n",
       "      <td>...</td>\n",
       "      <td>...</td>\n",
       "    </tr>\n",
       "    <tr>\n",
       "      <th>944</th>\n",
       "      <td>0.012955</td>\n",
       "      <td>1.000000</td>\n",
       "      <td>0.159102</td>\n",
       "    </tr>\n",
       "    <tr>\n",
       "      <th>945</th>\n",
       "      <td>0.067265</td>\n",
       "      <td>0.333333</td>\n",
       "      <td>0.063765</td>\n",
       "    </tr>\n",
       "    <tr>\n",
       "      <th>946</th>\n",
       "      <td>0.785252</td>\n",
       "      <td>0.750000</td>\n",
       "      <td>0.591465</td>\n",
       "    </tr>\n",
       "    <tr>\n",
       "      <th>947</th>\n",
       "      <td>0.022920</td>\n",
       "      <td>0.541667</td>\n",
       "      <td>0.087916</td>\n",
       "    </tr>\n",
       "    <tr>\n",
       "      <th>948</th>\n",
       "      <td>0.598406</td>\n",
       "      <td>1.000000</td>\n",
       "      <td>0.655207</td>\n",
       "    </tr>\n",
       "  </tbody>\n",
       "</table>\n",
       "<p>949 rows × 3 columns</p>\n",
       "</div>"
      ],
      "text/plain": [
       "     monthly_charges    tenure  total_charges\n",
       "0           0.161435  0.319444       0.093797\n",
       "1           0.018934  0.805556       0.133843\n",
       "2           0.809666  0.638889       0.533898\n",
       "3           0.010962  0.736111       0.121131\n",
       "4           0.620827  0.986111       0.654486\n",
       "..               ...       ...            ...\n",
       "944         0.012955  1.000000       0.159102\n",
       "945         0.067265  0.333333       0.063765\n",
       "946         0.785252  0.750000       0.591465\n",
       "947         0.022920  0.541667       0.087916\n",
       "948         0.598406  1.000000       0.655207\n",
       "\n",
       "[949 rows x 3 columns]"
      ]
     },
     "execution_count": 32,
     "metadata": {},
     "output_type": "execute_result"
    }
   ],
   "source": [
    "# verifying it works as an import from a module\n",
    "prepare.minmax_scale(train[['monthly_charges','tenure','total_charges']])"
   ]
  },
  {
   "cell_type": "code",
   "execution_count": null,
   "metadata": {},
   "outputs": [],
   "source": []
  }
 ],
 "metadata": {
  "kernelspec": {
   "display_name": "Python 3",
   "language": "python",
   "name": "python3"
  },
  "language_info": {
   "codemirror_mode": {
    "name": "ipython",
    "version": 3
   },
   "file_extension": ".py",
   "mimetype": "text/x-python",
   "name": "python",
   "nbconvert_exporter": "python",
   "pygments_lexer": "ipython3",
   "version": "3.8.5"
  },
  "toc-autonumbering": false,
  "toc-showmarkdowntxt": true
 },
 "nbformat": 4,
 "nbformat_minor": 4
}
